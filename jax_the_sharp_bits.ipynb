{
 "cells": [
  {
   "cell_type": "code",
   "execution_count": 1,
   "id": "9f2d888f-2dda-47f9-988e-e11201bed6c3",
   "metadata": {},
   "outputs": [],
   "source": [
    "import numpy as np\n",
    "from jax import grad, jit\n",
    "from jax import lax\n",
    "from jax import random\n",
    "import jax\n",
    "import jax.numpy as jnp\n",
    "import matplotlib as mpl\n",
    "from matplotlib import rcParams\n",
    "\n",
    "rcParams['image.interpolation'] = 'nearest'\n",
    "rcParams['image.cmap'] = 'viridis'\n",
    "rcParams['axes.grid'] = False"
   ]
  },
  {
   "cell_type": "markdown",
   "id": "5d2075b9-827c-4b4b-99a5-21f2c77e74d6",
   "metadata": {},
   "source": [
    "# Pure Functions"
   ]
  },
  {
   "cell_type": "markdown",
   "id": "8ab7b10c-66bf-43bc-8491-38dba49e1e34",
   "metadata": {},
   "source": [
    "All the input data is passed through the function parameters, all the results are output through the function results."
   ]
  },
  {
   "cell_type": "code",
   "execution_count": 2,
   "id": "56ece3f0-1868-42ca-ad13-3ccbeb94bdfd",
   "metadata": {},
   "outputs": [
    {
     "name": "stdout",
     "output_type": "stream",
     "text": [
      "Executing function\n",
      "First call:  4.0\n",
      "Second call:  5.0\n",
      "Executing function\n",
      "Third call, different type:  [5.]\n"
     ]
    }
   ],
   "source": [
    "def impure_print_side_effect(x):\n",
    "    print(\"Executing function\")  # This is a side-effect\n",
    "    return x\n",
    "\n",
    "# The side-effects appear during the first run (Compilation)\n",
    "print(\"First call: \", jit(impure_print_side_effect)(4.))\n",
    "\n",
    "# Susequent runs with parameters of same type and \n",
    "# shape may not show the side-effect\n",
    "# JAX invokes a cached compilation of the function.\n",
    "print(\"Second call: \", jit(impure_print_side_effect)(5.))\n",
    "\n",
    "# Jax re-runs the python function\n",
    "# when the type or shape of the argument changes.\n",
    "print(\"Third call, different type: \", jit(impure_print_side_effect)(jnp.array([5.])))"
   ]
  },
  {
   "cell_type": "code",
   "execution_count": 3,
   "id": "e2639da4-0313-4ae6-a9aa-b6188b111570",
   "metadata": {},
   "outputs": [
    {
     "name": "stdout",
     "output_type": "stream",
     "text": [
      "First call:  4.0\n",
      "Second call:  5.0\n",
      "Third call, different type:  [15.]\n"
     ]
    }
   ],
   "source": [
    "g = 0.\n",
    "def impure_uses_globals(x):\n",
    "    return x + g\n",
    "\n",
    "# JAX captures the value of the global during the first fun.\n",
    "print(\"First call: \", jit(impure_uses_globals)(4.))\n",
    "g = 10. # Update the global\n",
    "\n",
    "# Subsequent runs may silently use the cached value of the globals\n",
    "print(\"Second call: \", jit(impure_uses_globals)(5.))\n",
    "\n",
    "# This will end up reading the latest value of the global\n",
    "print(\"Third call, different type: \", jit(impure_uses_globals)(jnp.array([5.])))"
   ]
  },
  {
   "cell_type": "code",
   "execution_count": 4,
   "id": "9c35b0c0-f397-42ef-96db-cdf71b6af135",
   "metadata": {},
   "outputs": [
    {
     "name": "stdout",
     "output_type": "stream",
     "text": [
      "First call:  4.0\n",
      "Saved global:  Traced<ShapedArray(float32[], weak_type=True)>with<DynamicJaxprTrace(level=0/1)>\n"
     ]
    }
   ],
   "source": [
    "g = 0.\n",
    "def impure_saves_global(x):\n",
    "    global g\n",
    "    g = x\n",
    "    return x\n",
    "\n",
    "print(\"First call: \", jit(impure_saves_global)(4.))\n",
    "print(\"Saved global: \", g)"
   ]
  },
  {
   "cell_type": "code",
   "execution_count": 5,
   "id": "15cf0f10-6105-497d-bf05-bf0eed3057f5",
   "metadata": {},
   "outputs": [
    {
     "name": "stdout",
     "output_type": "stream",
     "text": [
      "50.0\n"
     ]
    }
   ],
   "source": [
    "def pure_uses_internal_state(x):\n",
    "    state = dict(even=0, odd=0)\n",
    "    for i in range(10):\n",
    "        state['even' if i % 2 == 0 else 'odd'] += x\n",
    "    return state['even'] + state['odd']\n",
    "    \n",
    "print(jit(pure_uses_internal_state)(5.))"
   ]
  },
  {
   "cell_type": "markdown",
   "id": "34954dd5-dce7-4d8e-93a7-20f424e89a51",
   "metadata": {},
   "source": [
    "It is not recommented to use iterators in any JAX function you want to JIT or in any control-flow primitive."
   ]
  },
  {
   "cell_type": "code",
   "execution_count": 6,
   "id": "a3a8073a-f470-42a1-a460-abfc455dccb1",
   "metadata": {},
   "outputs": [
    {
     "name": "stdout",
     "output_type": "stream",
     "text": [
      "45\n",
      "0\n"
     ]
    }
   ],
   "source": [
    "import jax.numpy as jnp\n",
    "import jax.lax as lax\n",
    "from jax import make_jaxpr\n",
    "\n",
    "# lax.fori_loop\n",
    "array = jnp.arange(10)\n",
    "print(lax.fori_loop(0, 10, lambda i,x: x+array[i], 0)) # expected result 45\n",
    "iterator = iter(range(10))\n",
    "print(lax.fori_loop(0, 10, lambda i,x: x+next(iterator), 0)) # unexpected result 0"
   ]
  },
  {
   "cell_type": "code",
   "execution_count": 7,
   "id": "571c57da-9d34-4375-a247-de8461b1a267",
   "metadata": {},
   "outputs": [
    {
     "data": {
      "text/plain": [
       "{ lambda  ; a b.\n",
       "  let c = broadcast_in_dim[ broadcast_dimensions=(  )\n",
       "                            shape=(16,) ] 1.0\n",
       "      d e = scan[ jaxpr={ lambda  ; a b c d.\n",
       "                          let e = convert_element_type[ new_dtype=float32\n",
       "                                                        weak_type=False ] c\n",
       "                              f = mul e d\n",
       "                              g = convert_element_type[ new_dtype=float32\n",
       "                                                        weak_type=False ] b\n",
       "                              h = add g f\n",
       "                              i = convert_element_type[ new_dtype=float32\n",
       "                                                        weak_type=False ] a\n",
       "                              j = add h i\n",
       "                          in (j, b) }\n",
       "                  length=16\n",
       "                  linear=(False, False, False, False)\n",
       "                  num_carry=1\n",
       "                  num_consts=1\n",
       "                  reverse=False\n",
       "                  unroll=1 ] b 0.0 a c\n",
       "  in (d, e) }"
      ]
     },
     "execution_count": 7,
     "metadata": {},
     "output_type": "execute_result"
    }
   ],
   "source": [
    "# lax.scan\n",
    "def func11(arr, extra):\n",
    "    ones = jnp.ones(arr.shape)\n",
    "    def body(carry, aelems):\n",
    "        ae1, ae2 = aelems\n",
    "        return (carry + ae1 * ae2 + extra, carry)\n",
    "    return lax.scan(body, 0., (arr, ones))\n",
    "make_jaxpr(func11)(jnp.arange(16), 5.)\n",
    "# make_jaxpr(func11)(iter(range(16)), 5.) # throws error"
   ]
  },
  {
   "cell_type": "code",
   "execution_count": 8,
   "id": "4d6be106-b6ce-42c7-83e7-ca43871e70eb",
   "metadata": {},
   "outputs": [
    {
     "name": "stdout",
     "output_type": "stream",
     "text": [
      "[ 1  2  3  4  5  6  7  8  9 10 11 12 13 14 15 16]\n"
     ]
    }
   ],
   "source": [
    "# lax.cond\n",
    "array_operand = jnp.arange(16)\n",
    "print(lax.cond(True, lambda x: x+1, lambda x: x-1, array_operand))\n",
    "iter_operand = iter(range(10))\n",
    "# lax.cond(True, lambda x: next(x)+1, lambda x: next(x)-1, iter_operand) # throws error"
   ]
  },
  {
   "cell_type": "markdown",
   "id": "e4d29e75-7103-4258-bec5-d3e2c4bd494a",
   "metadata": {},
   "source": [
    "# In-Place Updates"
   ]
  },
  {
   "cell_type": "code",
   "execution_count": 9,
   "id": "98f32757-eb0c-4184-8fec-b32845afa3e9",
   "metadata": {},
   "outputs": [
    {
     "name": "stdout",
     "output_type": "stream",
     "text": [
      "original array:\n",
      "[[0. 0. 0.]\n",
      " [0. 0. 0.]\n",
      " [0. 0. 0.]]\n",
      "updated array:\n",
      "[[0. 0. 0.]\n",
      " [1. 1. 1.]\n",
      " [0. 0. 0.]]\n"
     ]
    }
   ],
   "source": [
    "numpy_array = np.zeros((3, 3), dtype=np.float32)\n",
    "print(\"original array:\")\n",
    "print(numpy_array)\n",
    "\n",
    "# In place, mutating update\n",
    "numpy_array[1, :] = 1.0\n",
    "print(\"updated array:\")\n",
    "print(numpy_array)"
   ]
  },
  {
   "cell_type": "code",
   "execution_count": 10,
   "id": "4c847b6f-59d2-4d27-8203-92b1d07d6e4a",
   "metadata": {},
   "outputs": [
    {
     "name": "stdout",
     "output_type": "stream",
     "text": [
      "Exception '<class 'jaxlib.xla_extension.DeviceArray'>' object does not support item assignment. JAX arrays are immutable; perhaps you want jax.ops.index_update or jax.ops.index_add instead?\n"
     ]
    }
   ],
   "source": [
    "jax_array = jnp.zeros((3, 3), dtype=jnp.float32)\n",
    "\n",
    "# In place update of JAX's array will yield an error!\n",
    "try:\n",
    "    jax_array[1, :] = 1.0\n",
    "except Exception as e:\n",
    "    print(\"Exception {}\".format(e))"
   ]
  },
  {
   "cell_type": "markdown",
   "id": "0cdac421-c7f0-4e6c-84bb-5485dfacf985",
   "metadata": {},
   "source": [
    "## index_update"
   ]
  },
  {
   "cell_type": "code",
   "execution_count": 11,
   "id": "9298f0c1-43e6-4c0a-b0dd-f635bc5558a6",
   "metadata": {},
   "outputs": [],
   "source": [
    "from jax.ops import index, index_add, index_update"
   ]
  },
  {
   "cell_type": "code",
   "execution_count": 12,
   "id": "9b952ab5-8b93-4391-b0e0-011d81642f9e",
   "metadata": {},
   "outputs": [
    {
     "name": "stdout",
     "output_type": "stream",
     "text": [
      "original array:\n",
      "[[0. 0. 0.]\n",
      " [0. 0. 0.]\n",
      " [0. 0. 0.]]\n",
      "old array unchanged:\n",
      "[[0. 0. 0.]\n",
      " [0. 0. 0.]\n",
      " [0. 0. 0.]]\n",
      "new array:\n",
      "[[0. 0. 0.]\n",
      " [1. 1. 1.]\n",
      " [0. 0. 0.]]\n"
     ]
    }
   ],
   "source": [
    "jax_array = jnp.zeros((3, 3))\n",
    "print(\"original array:\")\n",
    "print(jax_array)\n",
    "\n",
    "new_jax_array = index_update(jax_array, index[1, :], 1.)\n",
    "\n",
    "print(\"old array unchanged:\")\n",
    "print(jax_array)\n",
    "\n",
    "print(\"new array:\")\n",
    "print(new_jax_array)"
   ]
  },
  {
   "cell_type": "markdown",
   "id": "179af01c-cad1-4505-a6c7-bf7fca9179f6",
   "metadata": {},
   "source": [
    "## index_add"
   ]
  },
  {
   "cell_type": "code",
   "execution_count": 13,
   "id": "b45678bc-f642-4003-bb80-7f18631192d8",
   "metadata": {},
   "outputs": [
    {
     "name": "stdout",
     "output_type": "stream",
     "text": [
      "original array:\n",
      "[[1. 1. 1. 1. 1. 1.]\n",
      " [1. 1. 1. 1. 1. 1.]\n",
      " [1. 1. 1. 1. 1. 1.]\n",
      " [1. 1. 1. 1. 1. 1.]\n",
      " [1. 1. 1. 1. 1. 1.]]\n",
      "new array post-addition:\n",
      "[[1. 1. 1. 8. 8. 8.]\n",
      " [1. 1. 1. 1. 1. 1.]\n",
      " [1. 1. 1. 8. 8. 8.]\n",
      " [1. 1. 1. 1. 1. 1.]\n",
      " [1. 1. 1. 8. 8. 8.]]\n"
     ]
    }
   ],
   "source": [
    "print(\"original array:\")\n",
    "jax_array = jnp.ones((5, 6))\n",
    "print(jax_array)\n",
    "\n",
    "new_jax_array = index_add(jax_array, index[::2, 3:], 7.)\n",
    "print(\"new array post-addition:\")\n",
    "print(new_jax_array)"
   ]
  },
  {
   "cell_type": "markdown",
   "id": "cc7f37b3-9631-4657-9e82-4b5f3c582f43",
   "metadata": {},
   "source": [
    "## Out-of-Bounds Indexing"
   ]
  },
  {
   "cell_type": "code",
   "execution_count": 14,
   "id": "b30a5653-f762-44d4-a6f9-788828ca8e52",
   "metadata": {},
   "outputs": [
    {
     "name": "stdout",
     "output_type": "stream",
     "text": [
      "Exception index 11 is out of bounds for axis 0 with size 10\n"
     ]
    }
   ],
   "source": [
    "try:\n",
    "    np.arange(10)[11]\n",
    "except Exception as e:\n",
    "    print(\"Exception {}\".format(e))"
   ]
  },
  {
   "cell_type": "code",
   "execution_count": 15,
   "id": "3dc3ac39-c0ca-49ad-bc17-5df7dafde839",
   "metadata": {},
   "outputs": [
    {
     "data": {
      "text/plain": [
       "DeviceArray(9, dtype=int32)"
      ]
     },
     "execution_count": 15,
     "metadata": {},
     "output_type": "execute_result"
    }
   ],
   "source": [
    "jnp.arange(10)[11]"
   ]
  },
  {
   "cell_type": "markdown",
   "id": "f7fb77e2-6c84-479f-bc68-02c590b5f2f0",
   "metadata": {},
   "source": [
    "Note that due to this behavior jnp.nanargmin and jnp.nanargmax return -1 for slices consisting of NaNs whereas Numpy would throw an error."
   ]
  },
  {
   "cell_type": "markdown",
   "id": "3c3ea02d-d8a3-4782-b798-534062a0c5cb",
   "metadata": {},
   "source": [
    "# Random Numbers"
   ]
  },
  {
   "cell_type": "markdown",
   "id": "8c321b37-ddc6-438f-bc7a-2bfc4b89a82a",
   "metadata": {},
   "source": [
    "## RNGs and State"
   ]
  },
  {
   "cell_type": "code",
   "execution_count": 16,
   "id": "6abfeaa9-2382-4e2e-a635-85ca262ec557",
   "metadata": {},
   "outputs": [
    {
     "name": "stdout",
     "output_type": "stream",
     "text": [
      "0.008195634639773797\n",
      "0.22403312940214648\n",
      "0.864401510752375\n"
     ]
    }
   ],
   "source": [
    "print(np.random.random())\n",
    "print(np.random.random())\n",
    "print(np.random.random())"
   ]
  },
  {
   "cell_type": "code",
   "execution_count": 17,
   "id": "3dbd235d-2bbe-49cb-b5e2-9358304f40b1",
   "metadata": {
    "tags": []
   },
   "outputs": [
    {
     "name": "stdout",
     "output_type": "stream",
     "text": [
      "('MT19937', array([         0,          1, 1812433255, 1900727105, 1208447044,\n",
      "       2481403966, 4042607538,  337614300, 3232553940, 1018809052,\n",
      "       3202401494, 1775180719, 3192392114,  594215549,  184016991,\n",
      "        829906058,  610491522, 3879932251, 3139825610,  297902587,\n",
      "       4075895579, 2943625357, 3530655617, 1423771745, 2135928312,\n",
      "       2891506774, 1066338622,  135451537,  933040465, 2759011858,\n",
      "       2273819758, 3545703099, 2516396728, 1272276355, 3172048492,\n",
      "       3267256201, 2332199830, 1975469449,  392443598, 1132453229,\n",
      "       2900699076, 1998300999, 3847713992,  512669506, 1227792182,\n",
      "       1629110240,  112303347, 2142631694, 3647635483, 1715036585,\n",
      "       2508091258, 1355887243, 1884998310, 3906360088,  952450269,\n",
      "       3647883368, 3962623343, 3077504981, 2023096077, 3791588343,\n",
      "       3937487744, 3455116780, 1218485897, 1374508007, 2815569918,\n",
      "       1367263917,  472908318, 2263147545, 1461547499, 4126813079,\n",
      "       2383504810,   64750479, 2963140275, 1709368606, 4143643781,\n",
      "        835933993, 1881494649,  674663333, 2076403047,  858036109,\n",
      "       1667579889, 1706666497,  607785554, 1995775149, 1941986352,\n",
      "       3448871082, 2109910019, 1474883361, 1623095288, 1831376534,\n",
      "       2612738285,   81681830, 2204289242, 1365038485,  251164610,\n",
      "       4268495337, 1805601714, 1262528768, 1442526919, 1675006593,\n",
      "        965627108,  646339161,  499795587,  840887574,  380522518,\n",
      "       3023789847, 1457635507, 1947093157, 2600365344, 2729853143,\n",
      "       1550618999, 1390905853, 3021294812,  882647559,  838872117,\n",
      "       1663880796, 4222103589, 2754172275, 3844026123, 3199260319,\n",
      "       4176064873, 3591027019, 2690294242, 2978135515, 3172796441,\n",
      "       3263669796, 1451257057, 1427035359, 4174826006, 2171992010,\n",
      "       1537002090, 3122405306, 4162452508, 3271954368, 3794310005,\n",
      "       3240514581, 1270412086, 3030475836, 2281945856, 2644171349,\n",
      "       3109139423, 4253563838, 1289926431, 1396919653,  733220100,\n",
      "       2753316645, 1196225013, 3699575255, 3569440056, 2675979228,\n",
      "       2624079148, 3463113149,  863430286,  623703199, 2113837653,\n",
      "       2656425919,  175981357, 4271478366, 4238022735, 1665483419,\n",
      "         86880610, 2963435083, 1830392943,  847801865, 3237296945,\n",
      "        332143967, 3973606945, 2671879697, 2236330279, 2360127810,\n",
      "       3283955434,  203240344, 4048139172,   13189264, 2263058814,\n",
      "        247241371, 1566765783, 3084408095, 3719371299, 1958375251,\n",
      "       1985924622, 1712739232, 1861691451, 2644502937, 2337807839,\n",
      "        784993770, 2962208780, 2190810177, 1523122731,  714888527,\n",
      "        578678761, 3698481324, 1801168075,  534650483, 3390213921,\n",
      "       3923356461, 3586009066, 2059432114,   52511333, 1969897376,\n",
      "       3630122061,  524661135, 3513619765,  563070233,  501359785,\n",
      "        477489274,  658768624,  938973567, 1548584683, 1345287459,\n",
      "       2488691004, 3441144905, 3849305094, 2430000078,  855172178,\n",
      "        614463281, 2092744749,  176381493, 1655802051, 2273888101,\n",
      "       2474494847, 3471978030, 2138918303,  575352373, 1658230985,\n",
      "       1675972553, 2946663114,  915579339,  284981499,   53939948,\n",
      "       3022598146, 1861218535, 3403620774, 4203516930, 2360471119,\n",
      "       3134536268, 1383448498, 1307602316, 3847663247, 3027225131,\n",
      "       3597251613, 3186237127,  725127595, 1928526954, 1843386923,\n",
      "       3560410503,   54688266, 1791983849, 2519860352, 4256389699,\n",
      "       2328812602,  486464275, 3578698363,  301279829, 1303654791,\n",
      "       4181868765,  971794070, 1933885487, 3996807464, 2144053754,\n",
      "       4079903755, 3775774765, 3481760044, 1212862354, 1067356423,\n",
      "       3764189132, 1609862325, 2209601551, 2565747501,  161962392,\n",
      "       4045451782, 2605574664, 2520953090, 3490240017, 1082791980,\n",
      "         44474324,  101811128, 4268650669, 4171338684,  772375154,\n",
      "       3920460306, 2319139534,  599033750, 2950874441, 3373922995,\n",
      "       1496848525, 4095253594, 1271943484, 1498723121, 3097453329,\n",
      "       3698082465,  281869581, 3148270661, 3591477288,  747441437,\n",
      "       2809508504, 3896107498,  303747862, 2368081624, 1844217645,\n",
      "        886825352,  287949781, 1444561207, 2512101757, 2062331723,\n",
      "        741720931, 1383797313, 3876746355, 2041045348, 2627599118,\n",
      "       1124169970,  200524822, 3484820454,   55883666, 1135054804,\n",
      "        669498692, 2677215504, 3097911127, 1509628615,  617580381,\n",
      "       2229022193,   85601568, 3243896546, 3715672328,  912168347,\n",
      "       2359163500, 1180347564, 4243175048, 2092067103,  880183327,\n",
      "       4000664709, 2045044777, 3500474644, 1515175520, 1862207123,\n",
      "        186628841, 3337252925,  708933575, 4015964629, 3136815297,\n",
      "       3314919747, 2891909013, 3316567785, 3944275369, 3608506218,\n",
      "       2884839110, 3054055598, 2707439927, 1381111877, 3275487281,\n",
      "       4292456216, 2639563270, 3327301876, 3576924628,  721056309,\n",
      "       2002808140,  748967365,   52380958, 2200261692,  763456477,\n",
      "       1708381337, 2038446433, 2682979402, 1526413779, 2211263302,\n",
      "       3879771969,   75966584, 3645059271, 2985763524, 4085690255,\n",
      "         82390958, 1883631385, 1647521260, 1598026998, 3038041577,\n",
      "       2501913134, 3279302868, 1738888524,  805035483,  756399074,\n",
      "       3863810982, 1097797270, 1505792529,  898904527,  583561003,\n",
      "        717152376, 3333867738, 1099456544, 1663473545, 1242141229,\n",
      "       3828627682, 1966201676, 1713552361, 3852160017, 1584965284,\n",
      "         21695908, 1013262144,  145341901, 3995441263, 3462066219,\n",
      "       2239637848, 1214086163, 2428868268, 1650037305, 1545513388,\n",
      "       1621198806, 4232947817, 1823092073,  256414624, 1745018809,\n",
      "       1357102386, 2055139770, 3280958307, 2482431613, 1664870585,\n",
      "        859130423, 4097751123, 3079768369, 2470211009, 2984880786,\n",
      "       2808568948, 2877071923, 1984903163,  302768457, 1866396789,\n",
      "        869566317, 3746415787, 4169433075, 3025005404, 3980733379,\n",
      "       3539207278, 3953071536,  876960847, 2548872156,  800507464,\n",
      "       1865466907, 1273317878, 3754712872, 1757188269, 3229950355,\n",
      "       3731640200, 2283390608, 2204990292,  411873449,  447423849,\n",
      "       1852437802,  472825525, 3044219944, 2913114194, 1859709265,\n",
      "       4053786194,  574820536, 2104496732,  865469814, 2438352724,\n",
      "       4208743605, 4215067542, 1364015250, 4139974345, 3838747005,\n",
      "       1818502786, 2914274940, 1402365828, 1751123528, 2302578077,\n",
      "       2463168652, 1968705496, 1730700144, 3023943273, 1139096844,\n",
      "       2658667767, 2063547264,  705791165, 1444775274, 2415454225,\n",
      "       1575664730,  921044163,  648101324, 1212387162, 4191962054,\n",
      "       1787702169, 1888718041, 1518218010, 3398792842, 4079359729,\n",
      "        149721439,  750400353, 2661036076, 3802767886,  520152586,\n",
      "        951852508, 2939585975, 1375969109,  385733137, 3523607459,\n",
      "       1902438415, 4250996086, 2712727066,  484493674, 3932107461,\n",
      "       1428488210, 1764242548, 3424801055, 4004904451, 2226862072,\n",
      "       2393366939, 3609584727, 3614444319,  317349896, 3826527525,\n",
      "        204023804,  981902443, 3356042039, 3051207045, 1869902661,\n",
      "        561831895, 3706675415, 1527687593, 1227610446, 2596341042,\n",
      "       3191717368, 3269246891,  557877074, 4062070629, 3052520266,\n",
      "       3772487029,  400039836, 3195205275, 4085394797, 1655557239,\n",
      "       1345770144, 2864727192,  449281238,   73189507,  528365765,\n",
      "       2727400656,  247880434, 2408277395,  777039183, 2210179398,\n",
      "       1088433648, 2124356402, 1555630141,  604790219,  195012151,\n",
      "       3312518356,  923728373, 3999251660, 3313059535, 3478133921,\n",
      "       3395026960,  383464614, 3425869222, 2446885186, 4032184426,\n",
      "        157195416, 3158909476, 1663750443, 2046427584, 1658453076,\n",
      "       1784483001, 3146546889, 1238739785, 2297306523, 3472330897,\n",
      "       2953326031, 2421672215, 1221694592, 1588568605, 2546987845,\n",
      "       3375168573, 2137961649, 3056565164,  330165219,  235900365,\n",
      "       1000384800, 2697255904,  579122283, 3050664825,   73426122,\n",
      "       1232986102, 2940571064, 3076486824, 1708182873, 2796363264,\n",
      "        292154131, 4280019913, 1102652157, 1185393592, 1494991690,\n",
      "       4270076389, 2384840717,  425785147, 2385321880,  317514772,\n",
      "       3926962743,  392176856, 3465421709, 1878853468,  122662664,\n",
      "       2958252160, 1858961315, 2244939588, 2361884409, 2860936803,\n",
      "        683833250, 3291277128, 1686857206, 1112632275, 1200680507,\n",
      "       3342928196, 2677058150,  939442136, 3407104669, 2906783932,\n",
      "       3668048733, 2030009470, 1910839172, 1234925283, 3575831445,\n",
      "        123595418, 2362440495, 3048484911, 1796872496], dtype=uint32), 624, 0, 0.0)\n"
     ]
    }
   ],
   "source": [
    "np.random.seed(0)\n",
    "rng_state = np.random.get_state()\n",
    "print(rng_state)"
   ]
  },
  {
   "cell_type": "code",
   "execution_count": 18,
   "id": "38e6b92c-5e74-4413-bf94-f91d9b5fc006",
   "metadata": {},
   "outputs": [],
   "source": [
    "_ = np.random.uniform()\n",
    "rng_state = np.random.get_state()\n",
    "\n",
    "# Let's exhaust the entropy in this PRNG statevector\n",
    "for i in range(311):\n",
    "    _ = np.random.uniform()\n",
    "rng_state = np.random.get_state()\n",
    "\n",
    "# Next call iterates the RNG state for a new batch of face \"entropy\"\n",
    "_ = np.random.uniform()\n",
    "rng_state = np.random.get_state()"
   ]
  },
  {
   "cell_type": "markdown",
   "id": "20995b33-76c0-404b-8ce2-4ca89ae540e7",
   "metadata": {},
   "source": [
    "The problem with magic PRNG state is that it’s hard to reason about how it’s being used and updated across different threads, processes, and devices, and it’s very easy to screw up when the details of entropy production and consumption are hidden from the end user."
   ]
  },
  {
   "cell_type": "markdown",
   "id": "7f87b699-9331-459f-bbae-4a8bce17662a",
   "metadata": {},
   "source": [
    "## JAX PRNG"
   ]
  },
  {
   "cell_type": "code",
   "execution_count": 2,
   "id": "33913bb8-4be0-4656-915b-295dc9454646",
   "metadata": {},
   "outputs": [
    {
     "data": {
      "text/plain": [
       "DeviceArray([0, 0], dtype=uint32)"
      ]
     },
     "execution_count": 2,
     "metadata": {},
     "output_type": "execute_result"
    }
   ],
   "source": [
    "from jax import random\n",
    "key = random.PRNGKey(0)\n",
    "key"
   ]
  },
  {
   "cell_type": "markdown",
   "id": "3a666126-b1ed-4e09-a6e8-2c932b0ef99c",
   "metadata": {},
   "source": [
    "JAX’s random functions produce pseudorandom numbers from the PRNG state, but do not change the state!"
   ]
  },
  {
   "cell_type": "code",
   "execution_count": 20,
   "id": "d225243c-4c39-48e8-aafd-71483be516c0",
   "metadata": {},
   "outputs": [
    {
     "name": "stdout",
     "output_type": "stream",
     "text": [
      "[-0.20584226]\n",
      "[0 0]\n",
      "[-0.20584226]\n",
      "[0 0]\n"
     ]
    }
   ],
   "source": [
    "print(random.normal(key, shape=(1, )))\n",
    "print(key)\n",
    "# No no no!\n",
    "print(random.normal(key, shape=(1, )))\n",
    "print(key)"
   ]
  },
  {
   "cell_type": "markdown",
   "id": "beb78216-27ad-4c24-be4a-f3cf01aa342c",
   "metadata": {},
   "source": [
    "Instead, we split the PRNG to get usable subkeys every time we need a new pseudorandom number:"
   ]
  },
  {
   "cell_type": "code",
   "execution_count": 21,
   "id": "4d88d4f0-939f-4c5f-aa3e-097893deae9b",
   "metadata": {},
   "outputs": [
    {
     "name": "stdout",
     "output_type": "stream",
     "text": [
      "old key [0 0]\n",
      "    \\---SPLIT --> new key    [4146024105  967050713]\n",
      "             \\--> new subkey [2718843009 1272950319] --> normal [-1.2515389]\n"
     ]
    }
   ],
   "source": [
    "print(\"old key\", key)\n",
    "key, subkey = random.split(key)\n",
    "normal_pseudorandom = random.normal(subkey, shape=(1,))\n",
    "print(\"    \\---SPLIT --> new key   \", key)\n",
    "print(\"             \\--> new subkey\", subkey, \"--> normal\", normal_pseudorandom)"
   ]
  },
  {
   "cell_type": "code",
   "execution_count": 22,
   "id": "8e252b14-8aa1-444f-a124-085e08784d48",
   "metadata": {},
   "outputs": [
    {
     "name": "stdout",
     "output_type": "stream",
     "text": [
      "old key [4146024105  967050713]\n",
      "    \\---SPLIT --> new key    [2384771982 3928867769]\n",
      "             \\--> new subkey [1278412471 2182328957] --> normal [-0.58665055]\n"
     ]
    }
   ],
   "source": [
    "print(\"old key\", key)\n",
    "key, subkey = random.split(key)\n",
    "normal_pseudorandom = random.normal(subkey, shape=(1,))\n",
    "print(\"    \\---SPLIT --> new key   \", key)\n",
    "print(\"             \\--> new subkey\", subkey, \"--> normal\", normal_pseudorandom)"
   ]
  },
  {
   "cell_type": "code",
   "execution_count": 23,
   "id": "ff1d6ea2-90b0-4980-882d-125df0bbdd16",
   "metadata": {},
   "outputs": [
    {
     "name": "stdout",
     "output_type": "stream",
     "text": [
      "[-0.37533438]\n",
      "[0.98645043]\n",
      "[0.14553197]\n"
     ]
    }
   ],
   "source": [
    "key, *subkeys = random.split(key, 4)\n",
    "for subkey in subkeys:\n",
    "    print(random.normal(subkey, shape=(1,)))"
   ]
  },
  {
   "cell_type": "markdown",
   "id": "148c4876-b3ef-4610-8740-7323649d72a7",
   "metadata": {},
   "source": [
    "# Control Flow"
   ]
  },
  {
   "cell_type": "markdown",
   "id": "073e38b1-e542-4bc5-9da2-9e314fb053eb",
   "metadata": {},
   "source": [
    "## python control_flow + autodiff"
   ]
  },
  {
   "cell_type": "code",
   "execution_count": 24,
   "id": "b831fb9a-4144-49c4-9711-b981f1df9cef",
   "metadata": {},
   "outputs": [
    {
     "name": "stdout",
     "output_type": "stream",
     "text": [
      "12.0\n",
      "-4.0\n"
     ]
    }
   ],
   "source": [
    "def f(x):\n",
    "    if x<3:\n",
    "        return 3. * x ** 2\n",
    "    else:\n",
    "        return -4 * x\n",
    "    \n",
    "print(grad(f)(2.))\n",
    "print(grad(f)(4.))"
   ]
  },
  {
   "cell_type": "markdown",
   "id": "b5b285d8-790e-4e3e-b81f-44eb939db5b7",
   "metadata": {},
   "source": [
    "# python control_flow + JIT"
   ]
  },
  {
   "cell_type": "markdown",
   "id": "9d863040-5f62-4bc8-b6d1-5129e6e821dc",
   "metadata": {},
   "source": [
    "Using control flow with jit is more complicated, and by default it has more constraints."
   ]
  },
  {
   "cell_type": "code",
   "execution_count": 25,
   "id": "4f664100-7363-438a-9f6f-5996a5d72f59",
   "metadata": {},
   "outputs": [
    {
     "name": "stdout",
     "output_type": "stream",
     "text": [
      "24\n"
     ]
    }
   ],
   "source": [
    "# This works:\n",
    "@jit\n",
    "def f(x):\n",
    "    for i in range(3):\n",
    "        x = 2 * x\n",
    "    return x\n",
    "\n",
    "print(f(3))"
   ]
  },
  {
   "cell_type": "code",
   "execution_count": 26,
   "id": "40a262fc-fa5d-4dac-895d-ec70587194f5",
   "metadata": {},
   "outputs": [
    {
     "name": "stdout",
     "output_type": "stream",
     "text": [
      "6.0\n"
     ]
    }
   ],
   "source": [
    "# So does this:\n",
    "@jit\n",
    "def g(x):\n",
    "    y = 0.\n",
    "    for i in range(x.shape[0]):\n",
    "        y = y + x[i]\n",
    "    return y\n",
    "\n",
    "print(g(jnp.array([1., 2., 3.])))"
   ]
  },
  {
   "cell_type": "code",
   "execution_count": 27,
   "id": "8c90c91c-5582-4a24-ba95-90a8f42c0db4",
   "metadata": {},
   "outputs": [
    {
     "name": "stdout",
     "output_type": "stream",
     "text": [
      "Exception Abstract tracer value encountered where concrete value is expected: Traced<ShapedArray(bool[], weak_type=True)>with<DynamicJaxprTrace(level=0/1)>\n",
      "The problem arose with the `bool` function. \n",
      "While tracing the function f at <ipython-input-27-dc2e5a3b9c1a>:2, transformed by jit., this concrete value was not available in Python because it depends on the value of the arguments to f at <ipython-input-27-dc2e5a3b9c1a>:2, transformed by jit. at flattened positions [0], and the computation of these values is being staged out (that is, delayed rather than executed eagerly).\n",
      " (https://jax.readthedocs.io/en/latest/errors.html#jax.errors.ConcretizationTypeError)\n"
     ]
    }
   ],
   "source": [
    "# But this doesn't, at least by default\n",
    "@jit\n",
    "def f(x):\n",
    "    if x < 3:\n",
    "        return 3. * x ** 2\n",
    "    else:\n",
    "        return -4 * x\n",
    "\n",
    "# This will fail!\n",
    "try:\n",
    "    f(2)\n",
    "except Exception as e:\n",
    "    print(\"Exception {}\".format(e))"
   ]
  },
  {
   "cell_type": "code",
   "execution_count": 28,
   "id": "c8e9ffba-2cc5-4930-9e22-a85db654d07a",
   "metadata": {},
   "outputs": [
    {
     "name": "stdout",
     "output_type": "stream",
     "text": [
      "132 ns ± 0.236 ns per loop (mean ± std. dev. of 7 runs, 10000000 loops each)\n",
      "112 µs ± 5.54 µs per loop (mean ± std. dev. of 7 runs, 10000 loops each)\n"
     ]
    }
   ],
   "source": [
    "def f(x):\n",
    "    if x < 3:\n",
    "        return 3. * x ** 2\n",
    "    else:\n",
    "        return -4 * x\n",
    "    \n",
    "%timeit f(2.)\n",
    "\n",
    "f = jit(f, static_argnums=(0,))\n",
    "\n",
    "%timeit f(2.)"
   ]
  },
  {
   "cell_type": "code",
   "execution_count": 29,
   "id": "029e477e-b84c-4f09-a072-7dcb6d9f1db2",
   "metadata": {},
   "outputs": [
    {
     "name": "stdout",
     "output_type": "stream",
     "text": [
      "2.77 ms ± 378 µs per loop (mean ± std. dev. of 7 runs, 100 loops each)\n",
      "133 µs ± 1.79 µs per loop (mean ± std. dev. of 7 runs, 10000 loops each)\n"
     ]
    }
   ],
   "source": [
    "def f(x, n):\n",
    "    y = 0.\n",
    "    for i in range(n):\n",
    "        y = y + x[i]\n",
    "    return y\n",
    "\n",
    "%timeit f(jnp.array([2., 3., 4.]), 2)\n",
    "\n",
    "f = jit(f, static_argnums=(1,))\n",
    "\n",
    "%timeit f(jnp.array([2., 3., 4.]), 2)"
   ]
  },
  {
   "cell_type": "markdown",
   "id": "70f74ec3-2fe7-46cb-9baa-25bb3dd84550",
   "metadata": {},
   "source": [
    "## functions with argument-value dependent shapes"
   ]
  },
  {
   "cell_type": "code",
   "execution_count": 30,
   "id": "dfbbfd52-5b6e-48c4-bcdf-15464c855e00",
   "metadata": {},
   "outputs": [
    {
     "name": "stdout",
     "output_type": "stream",
     "text": [
      "[4. 4. 4. 4. 4.]\n",
      "Exception The numpy.ndarray conversion method __array__() was called on the JAX Tracer object Traced<ShapedArray(int32[], weak_type=True)>with<DynamicJaxprTrace(level=0/1)> (https://jax.readthedocs.io/en/latest/errors.html#jax.errors.TracerArrayConversionError)\n",
      "[4. 4. 4. 4. 4. 4. 4. 4. 4. 4.]\n",
      "[4. 4. 4. 4. 4.]\n"
     ]
    }
   ],
   "source": [
    "def example_fun(length, val):\n",
    "    return jnp.ones((length,)) * val\n",
    "\n",
    "# un-jit'd works fine\n",
    "print(example_fun(5, 4))\n",
    "\n",
    "bad_example_jit = jit(example_fun)\n",
    "# this will fail:\n",
    "try:\n",
    "    print(bad_example_jit(10, 4))\n",
    "except Exception as e:\n",
    "    print(\"Exception {}\".format(e))\n",
    "    \n",
    "# static_argnums tells JAX to recompile on changes at these argument positions:\n",
    "good_example_jit = jit(example_fun, static_argnums=(0,))\n",
    "\n",
    "# first compile\n",
    "print(good_example_jit(10, 4))\n",
    "\n",
    "# recompile\n",
    "print(good_example_jit(5, 4))"
   ]
  },
  {
   "cell_type": "markdown",
   "id": "eddba9e6-0e84-48eb-9db3-3dea0e594462",
   "metadata": {},
   "source": [
    "## Structured control flow primitives"
   ]
  },
  {
   "cell_type": "markdown",
   "id": "8277b5d1-3f07-4d22-a704-04c0291df9d5",
   "metadata": {},
   "source": [
    "### lax.cond: differentiable"
   ]
  },
  {
   "cell_type": "code",
   "execution_count": 31,
   "id": "7c6cdde9-6d42-41ba-bf72-b264a4b5c037",
   "metadata": {},
   "outputs": [
    {
     "name": "stdout",
     "output_type": "stream",
     "text": [
      "[1.]\n",
      "[-1.]\n"
     ]
    }
   ],
   "source": [
    "from jax import lax\n",
    "\n",
    "operand = jnp.array([0.])\n",
    "print(lax.cond(True, lambda x: x+1, lambda x: x-1, operand))\n",
    "\n",
    "print(lax.cond(False, lambda x: x+1, lambda x: x-1, operand))"
   ]
  },
  {
   "cell_type": "markdown",
   "id": "abe73eb8-3d9f-45ed-bc48-8379032f3f00",
   "metadata": {},
   "source": [
    "### while_loop: fwd-mode differentible"
   ]
  },
  {
   "cell_type": "code",
   "execution_count": 32,
   "id": "abff694f-48f2-4ac9-8e86-5cf1588ba8b0",
   "metadata": {},
   "outputs": [
    {
     "data": {
      "text/plain": [
       "DeviceArray(10, dtype=int32)"
      ]
     },
     "execution_count": 32,
     "metadata": {},
     "output_type": "execute_result"
    }
   ],
   "source": [
    "init_val = 0\n",
    "cond_fun = lambda x: x<10\n",
    "body_fun = lambda x: x+1\n",
    "lax.while_loop(cond_fun, body_fun, init_val)"
   ]
  },
  {
   "cell_type": "markdown",
   "id": "300f46ef-c7b6-4ba9-8a06-4478b5bdf05d",
   "metadata": {},
   "source": [
    "### fori_loop"
   ]
  },
  {
   "cell_type": "code",
   "execution_count": 33,
   "id": "7b8d3025-e31b-4a40-bf04-3f29023f48a1",
   "metadata": {},
   "outputs": [
    {
     "data": {
      "text/plain": [
       "DeviceArray(45, dtype=int32)"
      ]
     },
     "execution_count": 33,
     "metadata": {},
     "output_type": "execute_result"
    }
   ],
   "source": [
    "init_val = 0\n",
    "start = 0\n",
    "stop = 10\n",
    "body_fun = lambda i,x: x+i\n",
    "lax.fori_loop(start, stop, body_fun, init_val)"
   ]
  },
  {
   "cell_type": "markdown",
   "id": "3e1e08b0-773d-4c0e-a98f-ccbfcec7be5a",
   "metadata": {},
   "source": [
    "# NaNs"
   ]
  },
  {
   "cell_type": "markdown",
   "id": "39c0bbce-883d-473e-a8ff-73b231feb556",
   "metadata": {},
   "source": [
    "## Debugging NaNs"
   ]
  },
  {
   "cell_type": "markdown",
   "id": "c9954089-aa95-4234-9e3b-e3ffe05f96c0",
   "metadata": {},
   "source": [
    "If you want to trace where NaNs are occurring in your functions or gradients, you can turn on the NaN-checker by:"
   ]
  },
  {
   "cell_type": "code",
   "execution_count": 34,
   "id": "0d220631-d551-42c6-9c2a-7c7a02321b69",
   "metadata": {},
   "outputs": [],
   "source": [
    "import os\n",
    "\n",
    "os.environ['JAX_DEBUG_NANS'] = 'True'"
   ]
  },
  {
   "cell_type": "code",
   "execution_count": 35,
   "id": "fa64a263-f60a-4be3-a5e3-ea0745d20884",
   "metadata": {},
   "outputs": [],
   "source": [
    "from jax.config import config\n",
    "\n",
    "config.update(\"jax_debug_nans\", True) # near the top of your main file"
   ]
  },
  {
   "cell_type": "code",
   "execution_count": 36,
   "id": "f7761999-2506-43bc-927d-22d063ee6f11",
   "metadata": {},
   "outputs": [],
   "source": [
    "from jax.config import config\n",
    "\n",
    "config.parse_flags_with_absl() \n",
    "# to your main file, then set the option using a command-line flag line --jax_debug_nans=True"
   ]
  },
  {
   "cell_type": "code",
   "execution_count": 4,
   "id": "c61d4a54-8cf9-495e-83fa-4416a82cc4ef",
   "metadata": {
    "tags": []
   },
   "outputs": [
    {
     "data": {
      "text/plain": [
       "DeviceArray(nan, dtype=float32)"
      ]
     },
     "execution_count": 4,
     "metadata": {},
     "output_type": "execute_result"
    }
   ],
   "source": [
    "import jax.numpy as jnp\n",
    "jnp.divide(0., 0.)"
   ]
  },
  {
   "cell_type": "markdown",
   "id": "d6da5be4-08f6-4095-964c-088bd5eb73bb",
   "metadata": {},
   "source": [
    "# Double (64bit) precision"
   ]
  },
  {
   "cell_type": "code",
   "execution_count": 5,
   "id": "f9f57642-74d8-4f8d-ac6d-bf0fce2112b4",
   "metadata": {},
   "outputs": [
    {
     "data": {
      "text/plain": [
       "dtype('float32')"
      ]
     },
     "execution_count": 5,
     "metadata": {},
     "output_type": "execute_result"
    }
   ],
   "source": [
    "x = random.uniform(random.PRNGKey(0), (1000,), dtype=jnp.float64)\n",
    "x.dtype"
   ]
  },
  {
   "cell_type": "code",
   "execution_count": null,
   "id": "fc236ba0-12d7-45c1-b586-12504e5c9248",
   "metadata": {},
   "outputs": [],
   "source": []
  }
 ],
 "metadata": {
  "kernelspec": {
   "display_name": "Python 3",
   "language": "python",
   "name": "python3"
  },
  "language_info": {
   "codemirror_mode": {
    "name": "ipython",
    "version": 3
   },
   "file_extension": ".py",
   "mimetype": "text/x-python",
   "name": "python",
   "nbconvert_exporter": "python",
   "pygments_lexer": "ipython3",
   "version": "3.7.10"
  }
 },
 "nbformat": 4,
 "nbformat_minor": 5
}
