{
 "cells": [
  {
   "cell_type": "markdown",
   "id": "50046de2-0281-4ded-911e-090b58d4ca76",
   "metadata": {},
   "source": [
    "# Random numbers in NumPy"
   ]
  },
  {
   "cell_type": "code",
   "execution_count": 2,
   "id": "9ce37679-9006-4c7d-a3c3-3cc92461db7b",
   "metadata": {},
   "outputs": [],
   "source": [
    "import numpy as np\n",
    "np.random.seed(0)"
   ]
  },
  {
   "cell_type": "code",
   "execution_count": 4,
   "id": "0e6bb19e-fdd5-4f31-8e5b-2086d5c108bd",
   "metadata": {},
   "outputs": [
    {
     "name": "stdout",
     "output_type": "stream",
     "text": [
      "('MT19937', array([         0,          1, 1812433255, 1900727105, 1208447044,\n",
      "       2481403966, 4042607538,  337614300, 3232553940, 1018809052,\n",
      "       3202401494, 1775180719, 3192392114,  594215549,  184016991,\n",
      "        829906058,  610491522, 3879932251, 3139825610,  297902587,\n",
      "       4075895579, 2943625357, 3530655617, 1423771745, 2135928312,\n",
      "       2891506774, 1066338622,  135451537,  933040465, 2759011858,\n",
      "       2273819758, 3545703099, 2516396728, 127 ...\n"
     ]
    }
   ],
   "source": [
    "def print_truncated_random_state():\n",
    "    \"\"\"To avoid spamming the outputs, print only part of the state.\"\"\"\n",
    "    full_random_state = np.random.get_state()\n",
    "    print(str(full_random_state)[:460], '...')\n",
    "    \n",
    "print_truncated_random_state()"
   ]
  },
  {
   "cell_type": "code",
   "execution_count": 5,
   "id": "936a5162-4e05-4610-a491-e03ad1789b2a",
   "metadata": {},
   "outputs": [
    {
     "name": "stdout",
     "output_type": "stream",
     "text": [
      "('MT19937', array([         0,          1, 1812433255, 1900727105, 1208447044,\n",
      "       2481403966, 4042607538,  337614300, 3232553940, 1018809052,\n",
      "       3202401494, 1775180719, 3192392114,  594215549,  184016991,\n",
      "        829906058,  610491522, 3879932251, 3139825610,  297902587,\n",
      "       4075895579, 2943625357, 3530655617, 1423771745, 2135928312,\n",
      "       2891506774, 1066338622,  135451537,  933040465, 2759011858,\n",
      "       2273819758, 3545703099, 2516396728, 127 ...\n",
      "('MT19937', array([2443250962, 1093594115, 1878467924, 2709361018, 1101979660,\n",
      "       3904844661,  676747479, 2085143622, 1056793272, 3812477442,\n",
      "       2168787041,  275552121, 2696932952, 3432054210, 1657102335,\n",
      "       3518946594,  962584079, 1051271004, 3806145045, 1414436097,\n",
      "       2032348584, 1661738718, 1116708477, 2562755208, 3176189976,\n",
      "        696824676, 2399811678, 3992505346,  569184356, 2626558620,\n",
      "        136797809, 4273176064,  296167901, 343 ...\n"
     ]
    }
   ],
   "source": [
    "np.random.seed(0)\n",
    "\n",
    "print_truncated_random_state()\n",
    "\n",
    "_ = np.random.uniform()\n",
    "\n",
    "print_truncated_random_state()"
   ]
  },
  {
   "cell_type": "code",
   "execution_count": 6,
   "id": "6b0e6858-6936-415c-8a93-56bc03047435",
   "metadata": {},
   "outputs": [
    {
     "name": "stdout",
     "output_type": "stream",
     "text": [
      "[0.5488135  0.71518937 0.60276338]\n"
     ]
    }
   ],
   "source": [
    "np.random.seed(0)\n",
    "print(np.random.uniform(size=3))"
   ]
  },
  {
   "cell_type": "code",
   "execution_count": 7,
   "id": "056eb0fa-a372-475a-bcce-5c1bfa458d37",
   "metadata": {},
   "outputs": [
    {
     "name": "stdout",
     "output_type": "stream",
     "text": [
      "individually:  [0.5488135  0.71518937 0.60276338]\n",
      "all at once:  [0.5488135  0.71518937 0.60276338]\n"
     ]
    }
   ],
   "source": [
    "np.random.seed(0)\n",
    "print(\"individually: \", np.stack([np.random.uniform() for _ in range(3)]))\n",
    "\n",
    "np.random.seed(0)\n",
    "print(\"all at once: \", np.random.uniform(size=3))"
   ]
  },
  {
   "cell_type": "markdown",
   "id": "fc99d79d-b1a0-49e4-b32b-4bcaff16239f",
   "metadata": {},
   "source": [
    "# Random numbers in JAX"
   ]
  },
  {
   "cell_type": "code",
   "execution_count": 8,
   "id": "d11521f0-050c-42e2-bb7c-a42135103320",
   "metadata": {},
   "outputs": [
    {
     "name": "stdout",
     "output_type": "stream",
     "text": [
      "1.9791922366721637\n"
     ]
    }
   ],
   "source": [
    "import numpy as np\n",
    "\n",
    "np.random.seed(0)\n",
    "\n",
    "def bar(): return np.random.uniform()\n",
    "def baz(): return np.random.uniform()\n",
    "\n",
    "def foo(): return bar() + 2 * baz()\n",
    "\n",
    "print(foo())"
   ]
  },
  {
   "cell_type": "code",
   "execution_count": null,
   "id": "323dcb7c-0beb-45a4-84f5-c8f79ac472c9",
   "metadata": {},
   "outputs": [],
   "source": [
    "from jax import random\n"
   ]
  }
 ],
 "metadata": {
  "kernelspec": {
   "display_name": "Python 3",
   "language": "python",
   "name": "python3"
  },
  "language_info": {
   "codemirror_mode": {
    "name": "ipython",
    "version": 3
   },
   "file_extension": ".py",
   "mimetype": "text/x-python",
   "name": "python",
   "nbconvert_exporter": "python",
   "pygments_lexer": "ipython3",
   "version": "3.7.10"
  }
 },
 "nbformat": 4,
 "nbformat_minor": 5
}
