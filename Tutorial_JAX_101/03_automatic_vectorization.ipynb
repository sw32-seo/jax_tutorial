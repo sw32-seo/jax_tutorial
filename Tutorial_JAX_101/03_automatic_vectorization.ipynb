{
 "cells": [
  {
   "cell_type": "markdown",
   "id": "2e4a0585-0c49-4b34-879d-701c2c9444ff",
   "metadata": {},
   "source": [
    "# Manual Vectorization"
   ]
  },
  {
   "cell_type": "code",
   "execution_count": 2,
   "id": "ae7c8743-d107-477a-9e66-dbdb9dcea803",
   "metadata": {},
   "outputs": [
    {
     "data": {
      "text/plain": [
       "DeviceArray([11., 20., 29.], dtype=float32)"
      ]
     },
     "execution_count": 2,
     "metadata": {},
     "output_type": "execute_result"
    }
   ],
   "source": [
    "import jax\n",
    "import jax.numpy as jnp\n",
    "\n",
    "x = jnp.arange(5)\n",
    "w = jnp.array([2., 3., 4.])\n",
    "\n",
    "def convolve(x, w):\n",
    "    output = []\n",
    "    for i in range(1, len(x)-1):\n",
    "        output.append(jnp.dot(x[i-1:i+2], w))\n",
    "    return jnp.array(output)\n",
    "\n",
    "convolve(x, w)"
   ]
  },
  {
   "cell_type": "code",
   "execution_count": 3,
   "id": "2afc033d-ab13-4178-b315-4832ac56d93e",
   "metadata": {},
   "outputs": [],
   "source": [
    "xs = jnp.stack([x, x])\n",
    "ws = jnp.stack([w, w])"
   ]
  },
  {
   "cell_type": "code",
   "execution_count": 4,
   "id": "5c254aec-b863-498a-9e0c-f6d487a44678",
   "metadata": {},
   "outputs": [
    {
     "data": {
      "text/plain": [
       "DeviceArray([[11., 20., 29.],\n",
       "             [11., 20., 29.]], dtype=float32)"
      ]
     },
     "execution_count": 4,
     "metadata": {},
     "output_type": "execute_result"
    }
   ],
   "source": [
    "def manually_batched_convolve(xs, ws):\n",
    "    output = []\n",
    "    for i in range(xs.shape[0]):\n",
    "        output.append(convolve(xs[i], ws[i]))\n",
    "    return jnp.stack(output)\n",
    "\n",
    "manually_batched_convolve(xs, ws)"
   ]
  },
  {
   "cell_type": "code",
   "execution_count": 5,
   "id": "bb958dc3-68a0-476b-8b5a-2113ef0fe5bd",
   "metadata": {},
   "outputs": [
    {
     "data": {
      "text/plain": [
       "DeviceArray([[11., 20., 29.],\n",
       "             [11., 20., 29.]], dtype=float32)"
      ]
     },
     "execution_count": 5,
     "metadata": {},
     "output_type": "execute_result"
    }
   ],
   "source": [
    "def manually_vectorized_convolve(xs, ws):\n",
    "    output = []\n",
    "    for i in range(1, xs.shape[-1] - 1):\n",
    "        output.append(jnp.sum(xs[:, i-1:i+2] * ws, axis=1))\n",
    "    return jnp.stack(output, axis=1)\n",
    "\n",
    "manually_vectorized_convolve(xs, ws)"
   ]
  },
  {
   "cell_type": "markdown",
   "id": "4fff7dfd-e1d6-4d55-a720-8fcb2c11d363",
   "metadata": {},
   "source": [
    "# Automatic Vectorization"
   ]
  },
  {
   "cell_type": "code",
   "execution_count": 6,
   "id": "6bc6dd99-b47a-4ae7-a6ed-3b8067f7559f",
   "metadata": {},
   "outputs": [
    {
     "data": {
      "text/plain": [
       "DeviceArray([[11., 20., 29.],\n",
       "             [11., 20., 29.]], dtype=float32)"
      ]
     },
     "execution_count": 6,
     "metadata": {},
     "output_type": "execute_result"
    }
   ],
   "source": [
    "auto_batch_convolve = jax.vmap(convolve)\n",
    "\n",
    "auto_batch_convolve(xs, ws)"
   ]
  },
  {
   "cell_type": "markdown",
   "id": "fe1aab9b-a693-4143-8b60-248009486325",
   "metadata": {},
   "source": [
    "If the batch dimension is not the first, you may use the <code>in_axes</code> and <code>out_axes</code> arguments to specify the location of the batch dimension in inputs and outputs. These may be an integer if the batch axis is the same for all inputs and outputs, or lists, otherwise."
   ]
  },
  {
   "cell_type": "code",
   "execution_count": 7,
   "id": "0407bcc9-57cb-43be-9cf8-9d672779baa0",
   "metadata": {},
   "outputs": [
    {
     "data": {
      "text/plain": [
       "DeviceArray([[11., 11.],\n",
       "             [20., 20.],\n",
       "             [29., 29.]], dtype=float32)"
      ]
     },
     "execution_count": 7,
     "metadata": {},
     "output_type": "execute_result"
    }
   ],
   "source": [
    "auto_batch_convolve_v2 = jax.vmap(convolve, in_axes=1, out_axes=1)\n",
    "\n",
    "xst = jnp.transpose(xs)\n",
    "wst = jnp.transpose(ws)\n",
    "\n",
    "auto_batch_convolve_v2(xst, wst)"
   ]
  },
  {
   "cell_type": "markdown",
   "id": "fe53bd68-1f41-4c12-b78e-fa85f96ad8e0",
   "metadata": {},
   "source": [
    "<code>jax.vmap</code> also supports the case where only one of the arguments is batched: for example, if you would like to convolve to a single set of weights <code>w</code> with a batch of vectors <code>x</code>; in this case the <code>in_axes</code> argument can be set to <code>None</code>:"
   ]
  },
  {
   "cell_type": "code",
   "execution_count": 8,
   "id": "cbd04d08-c62a-4c91-bb89-726d6e1cd73a",
   "metadata": {},
   "outputs": [
    {
     "data": {
      "text/plain": [
       "DeviceArray([[11., 20., 29.],\n",
       "             [11., 20., 29.]], dtype=float32)"
      ]
     },
     "execution_count": 8,
     "metadata": {},
     "output_type": "execute_result"
    }
   ],
   "source": [
    "batch_convolve_v3 = jax.vmap(convolve, in_axes=[0, None])\n",
    "\n",
    "batch_convolve_v3(xs, w)"
   ]
  },
  {
   "cell_type": "markdown",
   "id": "589df5b2-a029-46bd-9d9f-1053ca14fec0",
   "metadata": {},
   "source": [
    "# Combining transformations"
   ]
  },
  {
   "cell_type": "code",
   "execution_count": 9,
   "id": "13dcea35-6c1c-4e7e-9546-e4f03f8f3251",
   "metadata": {},
   "outputs": [
    {
     "data": {
      "text/plain": [
       "DeviceArray([[11., 20., 29.],\n",
       "             [11., 20., 29.]], dtype=float32)"
      ]
     },
     "execution_count": 9,
     "metadata": {},
     "output_type": "execute_result"
    }
   ],
   "source": [
    "jitted_batch_convolve = jax.jit(auto_batch_convolve)\n",
    "\n",
    "jitted_batch_convolve(xs, ws)"
   ]
  },
  {
   "cell_type": "code",
   "execution_count": null,
   "id": "7105fcb0-cbde-48fd-a621-1325c9a62192",
   "metadata": {},
   "outputs": [],
   "source": []
  }
 ],
 "metadata": {
  "kernelspec": {
   "display_name": "Python 3",
   "language": "python",
   "name": "python3"
  },
  "language_info": {
   "codemirror_mode": {
    "name": "ipython",
    "version": 3
   },
   "file_extension": ".py",
   "mimetype": "text/x-python",
   "name": "python",
   "nbconvert_exporter": "python",
   "pygments_lexer": "ipython3",
   "version": "3.7.10"
  }
 },
 "nbformat": 4,
 "nbformat_minor": 5
}
