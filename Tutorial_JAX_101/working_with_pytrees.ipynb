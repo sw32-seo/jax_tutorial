{
 "cells": [
  {
   "cell_type": "markdown",
   "id": "fd7275d3-5a80-4bf4-a74f-c63f3c79785c",
   "metadata": {},
   "source": [
    "# What is a pytree?"
   ]
  },
  {
   "cell_type": "code",
   "execution_count": 2,
   "id": "ec4b460f-4820-4216-bb96-096bab5a4302",
   "metadata": {},
   "outputs": [
    {
     "name": "stdout",
     "output_type": "stream",
     "text": [
      "[1, 'a', <object object at 0x7fdb897182b0>]   has 3 leaves: [1, 'a', <object object at 0x7fdb897182b0>]\n",
      "(1, (2, 3), ())                               has 3 leaves: [1, 2, 3]\n",
      "[1, {'k1': 2, 'k2': (3, 4)}, 5]               has 5 leaves: [1, 2, 3, 4, 5]\n",
      "{'a': 2, 'b': (2, 3)}                         has 3 leaves: [2, 2, 3]\n",
      "DeviceArray([1, 2, 3], dtype=int32)           has 1 leaves: [DeviceArray([1, 2, 3], dtype=int32)]\n"
     ]
    }
   ],
   "source": [
    "import jax\n",
    "import jax.numpy as jnp\n",
    "\n",
    "example_trees = [\n",
    "    [1, 'a', object()],\n",
    "    (1, (2, 3), ()),\n",
    "    [1, {'k1': 2, 'k2': (3, 4)}, 5],\n",
    "    {'a': 2, 'b': (2, 3)},\n",
    "    jnp.array([1, 2, 3]),\n",
    "]\n",
    "\n",
    "# Let's see how many leaves they have:\n",
    "for pytree in example_trees:\n",
    "    leaves = jax.tree_leaves(pytree)\n",
    "    print(f\"{repr(pytree):<45} has {len(leaves)} leaves: {leaves}\")"
   ]
  },
  {
   "cell_type": "markdown",
   "id": "e6219b20-d29d-45c3-b3d7-8792842a717b",
   "metadata": {},
   "source": [
    "# Why pytrees?"
   ]
  },
  {
   "cell_type": "markdown",
   "id": "f1ce6289-86a7-464a-86cd-b0cd71544548",
   "metadata": {},
   "source": [
    "In machine learning, some places where you commonly find pytrees are:\n",
    "\n",
    "- Model parameters\n",
    "- Dataset entries\n",
    "- RL agent observations\n",
    "\n",
    "They also often arise naturally when working in bulk with datasets (e.g., lists of lists of dicts)."
   ]
  },
  {
   "cell_type": "markdown",
   "id": "246fbb6c-c566-495c-858e-22c308200804",
   "metadata": {},
   "source": [
    "# Common pytree functions"
   ]
  },
  {
   "cell_type": "code",
   "execution_count": 4,
   "id": "a3d3d520-21a9-4bc5-8436-e78c3122817c",
   "metadata": {},
   "outputs": [
    {
     "data": {
      "text/plain": [
       "[[2, 4, 6], [2, 4], [2, 4, 6, 8]]"
      ]
     },
     "execution_count": 4,
     "metadata": {},
     "output_type": "execute_result"
    }
   ],
   "source": [
    "list_of_lists = [\n",
    "    [1, 2, 3],\n",
    "    [1, 2],\n",
    "    [1, 2, 3, 4]\n",
    "]\n",
    "\n",
    "jax.tree_map(lambda x: x*2, list_of_lists)"
   ]
  },
  {
   "cell_type": "markdown",
   "id": "5542d95f-24bd-4c56-904c-f1dbde108658",
   "metadata": {},
   "source": [
    "# Example: ML model parameters"
   ]
  },
  {
   "cell_type": "code",
   "execution_count": 25,
   "id": "b8808241-71b1-446c-afd0-e4676837200d",
   "metadata": {},
   "outputs": [],
   "source": [
    "import numpy as np\n",
    "\n",
    "def init_mlp_params(layer_widths):\n",
    "    params = []\n",
    "    for n_in, n_out in zip(layer_widths[:-1], layer_widths[1:]):\n",
    "        params.append(\n",
    "        dict(weights=np.random.normal(size=(n_in, n_out)) * np.sqrt(2/n_in),\n",
    "             biases=np.ones(shape=(n_out,)),\n",
    "            )\n",
    "        )\n",
    "    return params\n",
    "\n",
    "params = init_mlp_params([1, 256, 256, 256, 256, 256, 1])"
   ]
  },
  {
   "cell_type": "code",
   "execution_count": 26,
   "id": "666e35ae-5bac-4bde-9080-122bea59893c",
   "metadata": {},
   "outputs": [
    {
     "data": {
      "text/plain": [
       "[{'biases': (256,), 'weights': (1, 256)},\n",
       " {'biases': (256,), 'weights': (256, 256)},\n",
       " {'biases': (256,), 'weights': (256, 256)},\n",
       " {'biases': (256,), 'weights': (256, 256)},\n",
       " {'biases': (256,), 'weights': (256, 256)},\n",
       " {'biases': (1,), 'weights': (256, 1)}]"
      ]
     },
     "execution_count": 26,
     "metadata": {},
     "output_type": "execute_result"
    }
   ],
   "source": [
    "jax.tree_map(lambda x: x.shape, params)"
   ]
  },
  {
   "cell_type": "code",
   "execution_count": 27,
   "id": "9dcc98b6-7634-4da2-85c5-0ca02ea2318b",
   "metadata": {},
   "outputs": [],
   "source": [
    "def forward(params, x):\n",
    "    *hidden, last = params\n",
    "    for layer in hidden:\n",
    "        x = jax.nn.relu(x @ layer['weights'] + layer['biases'])\n",
    "    return x @ last['weights'] + last['biases']\n",
    "\n",
    "def loss_fn(params, x, y):\n",
    "    return jnp.mean((forward(params, x) - y) ** 2)\n",
    "\n",
    "LEARNING_RATE = 0.0001\n",
    "\n",
    "@jax.jit\n",
    "def update(params, x, y):\n",
    "    \n",
    "    grads = jax.grad(loss_fn)(params, x, y)\n",
    "    # Note that 'grads' is a pytree with the same structure as 'params'.\n",
    "    # 'jax.grad' is one of may JAX junctions that has \n",
    "    # built-in support for pytrees\n",
    "    \n",
    "    # This is handy, because we can apply the SGD uptdate using tree utils:\n",
    "    return jax.tree_multimap(\n",
    "        lambda p, g: p - LEARNING_RATE * g, params, grads\n",
    "    )"
   ]
  },
  {
   "cell_type": "code",
   "execution_count": 28,
   "id": "8316136d-a1c7-491e-803e-f77b203440dc",
   "metadata": {},
   "outputs": [
    {
     "data": {
      "text/plain": [
       "<matplotlib.legend.Legend at 0x7fdaa84db3d0>"
      ]
     },
     "execution_count": 28,
     "metadata": {},
     "output_type": "execute_result"
    },
    {
     "data": {
      "image/png": "[encoded data removed]",
      "text/plain": [
       "<Figure size 432x288 with 1 Axes>"
      ]
     },
     "metadata": {
      "needs_background": "light"
     },
     "output_type": "display_data"
    }
   ],
   "source": [
    "import  matplotlib.pyplot as plt\n",
    "\n",
    "xs = np.random.normal(size=(128, 1))\n",
    "ys = xs ** 2\n",
    "\n",
    "for _ in range(1000):\n",
    "    params = update(params, xs, ys)\n",
    "    \n",
    "plt.scatter(xs, ys)\n",
    "plt.scatter(xs, forward(params, xs), label='Model prediction')\n",
    "plt.legend()"
   ]
  },
  {
   "cell_type": "markdown",
   "id": "47f64812-9194-470c-b132-6f17d9cfb205",
   "metadata": {},
   "source": [
    "# Custom pytree nodes"
   ]
  },
  {
   "cell_type": "code",
   "execution_count": 30,
   "id": "70c96516-327b-4aa2-82dd-b9787e34b643",
   "metadata": {},
   "outputs": [],
   "source": [
    "class MyContainer:\n",
    "    \"\"\"A named container.\"\"\"\n",
    "    \n",
    "    def __init__(self, name: str, a: int, b: int, c: int):\n",
    "        self.name = name\n",
    "        self.a = a\n",
    "        self.b = b\n",
    "        self.c = c"
   ]
  },
  {
   "cell_type": "code",
   "execution_count": 31,
   "id": "6f62aafb-df67-48d6-8c07-9c7bb141706a",
   "metadata": {},
   "outputs": [
    {
     "data": {
      "text/plain": [
       "[<__main__.MyContainer at 0x7fdaa8414c10>,\n",
       " <__main__.MyContainer at 0x7fdaa84143d0>]"
      ]
     },
     "execution_count": 31,
     "metadata": {},
     "output_type": "execute_result"
    }
   ],
   "source": [
    "jax.tree_leaves([\n",
    "    MyContainer('Alice', 1, 2, 3),\n",
    "    MyContainer('Bob', 4, 5, 6)\n",
    "])"
   ]
  },
  {
   "cell_type": "code",
   "execution_count": 32,
   "id": "4481bdcb-620d-474d-a53b-66963dac95fc",
   "metadata": {},
   "outputs": [
    {
     "ename": "TypeError",
     "evalue": "unsupported operand type(s) for +: 'MyContainer' and 'int'",
     "output_type": "error",
     "traceback": [
      "\u001b[0;31m---------------------------------------------------------------------------\u001b[0m",
      "\u001b[0;31mTypeError\u001b[0m                                 Traceback (most recent call last)",
      "\u001b[0;32m<ipython-input-32-d6b45a2ec2b9>\u001b[0m in \u001b[0;36m<module>\u001b[0;34m\u001b[0m\n\u001b[1;32m      1\u001b[0m jax.tree_map(lambda x: x + 1, [\n\u001b[1;32m      2\u001b[0m     \u001b[0mMyContainer\u001b[0m\u001b[0;34m(\u001b[0m\u001b[0;34m'Alice'\u001b[0m\u001b[0;34m,\u001b[0m \u001b[0;36m1\u001b[0m\u001b[0;34m,\u001b[0m \u001b[0;36m2\u001b[0m\u001b[0;34m,\u001b[0m \u001b[0;36m3\u001b[0m\u001b[0;34m)\u001b[0m\u001b[0;34m,\u001b[0m\u001b[0;34m\u001b[0m\u001b[0;34m\u001b[0m\u001b[0m\n\u001b[0;32m----> 3\u001b[0;31m     \u001b[0mMyContainer\u001b[0m\u001b[0;34m(\u001b[0m\u001b[0;34m'Bob'\u001b[0m\u001b[0;34m,\u001b[0m \u001b[0;36m4\u001b[0m\u001b[0;34m,\u001b[0m \u001b[0;36m5\u001b[0m\u001b[0;34m,\u001b[0m \u001b[0;36m6\u001b[0m\u001b[0;34m)\u001b[0m\u001b[0;34m\u001b[0m\u001b[0;34m\u001b[0m\u001b[0m\n\u001b[0m\u001b[1;32m      4\u001b[0m ])\n",
      "\u001b[0;32m/db2/users/seungwooseo/anaconda3/envs/jax/lib/python3.7/site-packages/jax/_src/tree_util.py\u001b[0m in \u001b[0;36mtree_map\u001b[0;34m(f, tree, is_leaf, *rest)\u001b[0m\n\u001b[1;32m    166\u001b[0m   \u001b[0mleaves\u001b[0m\u001b[0;34m,\u001b[0m \u001b[0mtreedef\u001b[0m \u001b[0;34m=\u001b[0m \u001b[0mtree_flatten\u001b[0m\u001b[0;34m(\u001b[0m\u001b[0mtree\u001b[0m\u001b[0;34m,\u001b[0m \u001b[0mis_leaf\u001b[0m\u001b[0;34m)\u001b[0m\u001b[0;34m\u001b[0m\u001b[0;34m\u001b[0m\u001b[0m\n\u001b[1;32m    167\u001b[0m   \u001b[0mall_leaves\u001b[0m \u001b[0;34m=\u001b[0m \u001b[0;34m[\u001b[0m\u001b[0mleaves\u001b[0m\u001b[0;34m]\u001b[0m \u001b[0;34m+\u001b[0m \u001b[0;34m[\u001b[0m\u001b[0mtreedef\u001b[0m\u001b[0;34m.\u001b[0m\u001b[0mflatten_up_to\u001b[0m\u001b[0;34m(\u001b[0m\u001b[0mr\u001b[0m\u001b[0;34m)\u001b[0m \u001b[0;32mfor\u001b[0m \u001b[0mr\u001b[0m \u001b[0;32min\u001b[0m \u001b[0mrest\u001b[0m\u001b[0;34m]\u001b[0m\u001b[0;34m\u001b[0m\u001b[0;34m\u001b[0m\u001b[0m\n\u001b[0;32m--> 168\u001b[0;31m   \u001b[0;32mreturn\u001b[0m \u001b[0mtreedef\u001b[0m\u001b[0;34m.\u001b[0m\u001b[0munflatten\u001b[0m\u001b[0;34m(\u001b[0m\u001b[0mf\u001b[0m\u001b[0;34m(\u001b[0m\u001b[0;34m*\u001b[0m\u001b[0mxs\u001b[0m\u001b[0;34m)\u001b[0m \u001b[0;32mfor\u001b[0m \u001b[0mxs\u001b[0m \u001b[0;32min\u001b[0m \u001b[0mzip\u001b[0m\u001b[0;34m(\u001b[0m\u001b[0;34m*\u001b[0m\u001b[0mall_leaves\u001b[0m\u001b[0;34m)\u001b[0m\u001b[0;34m)\u001b[0m\u001b[0;34m\u001b[0m\u001b[0;34m\u001b[0m\u001b[0m\n\u001b[0m\u001b[1;32m    169\u001b[0m \u001b[0;34m\u001b[0m\u001b[0m\n\u001b[1;32m    170\u001b[0m \u001b[0mtree_multimap\u001b[0m \u001b[0;34m=\u001b[0m \u001b[0mtree_map\u001b[0m\u001b[0;34m\u001b[0m\u001b[0;34m\u001b[0m\u001b[0m\n",
      "\u001b[0;32m/db2/users/seungwooseo/anaconda3/envs/jax/lib/python3.7/site-packages/jax/_src/tree_util.py\u001b[0m in \u001b[0;36m<genexpr>\u001b[0;34m(.0)\u001b[0m\n\u001b[1;32m    166\u001b[0m   \u001b[0mleaves\u001b[0m\u001b[0;34m,\u001b[0m \u001b[0mtreedef\u001b[0m \u001b[0;34m=\u001b[0m \u001b[0mtree_flatten\u001b[0m\u001b[0;34m(\u001b[0m\u001b[0mtree\u001b[0m\u001b[0;34m,\u001b[0m \u001b[0mis_leaf\u001b[0m\u001b[0;34m)\u001b[0m\u001b[0;34m\u001b[0m\u001b[0;34m\u001b[0m\u001b[0m\n\u001b[1;32m    167\u001b[0m   \u001b[0mall_leaves\u001b[0m \u001b[0;34m=\u001b[0m \u001b[0;34m[\u001b[0m\u001b[0mleaves\u001b[0m\u001b[0;34m]\u001b[0m \u001b[0;34m+\u001b[0m \u001b[0;34m[\u001b[0m\u001b[0mtreedef\u001b[0m\u001b[0;34m.\u001b[0m\u001b[0mflatten_up_to\u001b[0m\u001b[0;34m(\u001b[0m\u001b[0mr\u001b[0m\u001b[0;34m)\u001b[0m \u001b[0;32mfor\u001b[0m \u001b[0mr\u001b[0m \u001b[0;32min\u001b[0m \u001b[0mrest\u001b[0m\u001b[0;34m]\u001b[0m\u001b[0;34m\u001b[0m\u001b[0;34m\u001b[0m\u001b[0m\n\u001b[0;32m--> 168\u001b[0;31m   \u001b[0;32mreturn\u001b[0m \u001b[0mtreedef\u001b[0m\u001b[0;34m.\u001b[0m\u001b[0munflatten\u001b[0m\u001b[0;34m(\u001b[0m\u001b[0mf\u001b[0m\u001b[0;34m(\u001b[0m\u001b[0;34m*\u001b[0m\u001b[0mxs\u001b[0m\u001b[0;34m)\u001b[0m \u001b[0;32mfor\u001b[0m \u001b[0mxs\u001b[0m \u001b[0;32min\u001b[0m \u001b[0mzip\u001b[0m\u001b[0;34m(\u001b[0m\u001b[0;34m*\u001b[0m\u001b[0mall_leaves\u001b[0m\u001b[0;34m)\u001b[0m\u001b[0;34m)\u001b[0m\u001b[0;34m\u001b[0m\u001b[0;34m\u001b[0m\u001b[0m\n\u001b[0m\u001b[1;32m    169\u001b[0m \u001b[0;34m\u001b[0m\u001b[0m\n\u001b[1;32m    170\u001b[0m \u001b[0mtree_multimap\u001b[0m \u001b[0;34m=\u001b[0m \u001b[0mtree_map\u001b[0m\u001b[0;34m\u001b[0m\u001b[0;34m\u001b[0m\u001b[0m\n",
      "\u001b[0;32m<ipython-input-32-d6b45a2ec2b9>\u001b[0m in \u001b[0;36m<lambda>\u001b[0;34m(x)\u001b[0m\n\u001b[0;32m----> 1\u001b[0;31m jax.tree_map(lambda x: x + 1, [\n\u001b[0m\u001b[1;32m      2\u001b[0m     \u001b[0mMyContainer\u001b[0m\u001b[0;34m(\u001b[0m\u001b[0;34m'Alice'\u001b[0m\u001b[0;34m,\u001b[0m \u001b[0;36m1\u001b[0m\u001b[0;34m,\u001b[0m \u001b[0;36m2\u001b[0m\u001b[0;34m,\u001b[0m \u001b[0;36m3\u001b[0m\u001b[0;34m)\u001b[0m\u001b[0;34m,\u001b[0m\u001b[0;34m\u001b[0m\u001b[0;34m\u001b[0m\u001b[0m\n\u001b[1;32m      3\u001b[0m     \u001b[0mMyContainer\u001b[0m\u001b[0;34m(\u001b[0m\u001b[0;34m'Bob'\u001b[0m\u001b[0;34m,\u001b[0m \u001b[0;36m4\u001b[0m\u001b[0;34m,\u001b[0m \u001b[0;36m5\u001b[0m\u001b[0;34m,\u001b[0m \u001b[0;36m6\u001b[0m\u001b[0;34m)\u001b[0m\u001b[0;34m\u001b[0m\u001b[0;34m\u001b[0m\u001b[0m\n\u001b[1;32m      4\u001b[0m ])\n",
      "\u001b[0;31mTypeError\u001b[0m: unsupported operand type(s) for +: 'MyContainer' and 'int'"
     ]
    }
   ],
   "source": [
    "jax.tree_map(lambda x: x + 1, [\n",
    "    MyContainer('Alice', 1, 2, 3),\n",
    "    MyContainer('Bob', 4, 5, 6)\n",
    "])"
   ]
  },
  {
   "cell_type": "markdown",
   "id": "53c2bfcb-628f-490b-be2d-a609f30d52e3",
   "metadata": {},
   "source": [
    "To solve this, we need to register our container with JAX by telling it how to flatten and unflatten it:"
   ]
  },
  {
   "cell_type": "code",
   "execution_count": 33,
   "id": "214f5c1c-e0f0-4723-b5e4-d7ce63552445",
   "metadata": {},
   "outputs": [
    {
     "data": {
      "text/plain": [
       "[1, 2, 3, 4, 5, 6]"
      ]
     },
     "execution_count": 33,
     "metadata": {},
     "output_type": "execute_result"
    }
   ],
   "source": [
    "from typing import Tuple, Iterable\n",
    "\n",
    "def flatten_MyContainer(container) -> Tuple[Iterable[int], str]:\n",
    "    \"\"\"Returns an iterable over container contents, and aux data.\"\"\"\n",
    "    flat_contents = [container.a, container.b, container.c]\n",
    "\n",
    "    # we don't want the name to appear as a child, so it is auxiliary data.\n",
    "    # auxiliary data is usually a description of the structure of a node,\n",
    "    # e.g., the keys of a dict -- anything that isn't a node's children.\n",
    "    aux_data = container.name\n",
    "    return flat_contents, aux_data\n",
    "\n",
    "def unflatten_MyContainer(\n",
    "    aux_data: str, flat_contents: Iterable[int]) -> MyContainer:\n",
    "  \"\"\"Converts aux data and the flat contents into a MyContainer.\"\"\"\n",
    "  return MyContainer(aux_data, *flat_contents)\n",
    "\n",
    "jax.tree_util.register_pytree_node(\n",
    "    MyContainer, flatten_MyContainer, unflatten_MyContainer)\n",
    "\n",
    "jax.tree_leaves([\n",
    "    MyContainer('Alice', 1, 2, 3),\n",
    "    MyContainer('Bob', 4, 5, 6)\n",
    "])"
   ]
  },
  {
   "cell_type": "code",
   "execution_count": 34,
   "id": "9ec20f69-b1cb-433b-91a0-8ca5528e539f",
   "metadata": {},
   "outputs": [
    {
     "data": {
      "text/plain": [
       "['Alice', 1, 2, 3, 'Bob', 4, 5, 6]"
      ]
     },
     "execution_count": 34,
     "metadata": {},
     "output_type": "execute_result"
    }
   ],
   "source": [
    "from typing import NamedTuple, Any\n",
    "\n",
    "class MyOtherContainer(NamedTuple):\n",
    "  name: str\n",
    "  a: Any\n",
    "  b: Any\n",
    "  c: Any\n",
    "\n",
    "# Since `tuple` is already registered with JAX, and NamedTuple is a subclass,\n",
    "# this will work out-of-the-box:\n",
    "jax.tree_leaves([\n",
    "    MyOtherContainer('Alice', 1, 2, 3),\n",
    "    MyOtherContainer('Bob', 4, 5, 6)\n",
    "])"
   ]
  },
  {
   "cell_type": "markdown",
   "id": "356292d4-c8ca-413d-92ed-a7dcb1f5fc6f",
   "metadata": {},
   "source": [
    "# Common pytree gotchas and patterns"
   ]
  },
  {
   "cell_type": "markdown",
   "id": "4b21924f-6325-4e66-b48a-e1351a991108",
   "metadata": {},
   "source": [
    "## Gotchas\n",
    "### Mistaking nodes for leaves"
   ]
  },
  {
   "cell_type": "code",
   "execution_count": 45,
   "id": "3f2f7dc8-c5ac-40b2-96c5-f4ca631aff22",
   "metadata": {},
   "outputs": [
    {
     "data": {
      "text/plain": [
       "[(DeviceArray([1., 1.], dtype=float32),\n",
       "  DeviceArray([1., 1., 1.], dtype=float32)),\n",
       " (DeviceArray([1., 1., 1.], dtype=float32),\n",
       "  DeviceArray([1., 1., 1., 1.], dtype=float32))]"
      ]
     },
     "execution_count": 45,
     "metadata": {},
     "output_type": "execute_result"
    }
   ],
   "source": [
    "a_tree = [jnp.zeros((2, 3)), jnp.zeros((3, 4))]\n",
    "\n",
    "# Try to make another tree with ones instead of zeros\n",
    "shapes = jax.tree_map(lambda x: x.shape, a_tree)\n",
    "jax.tree_map(jnp.ones, shapes)"
   ]
  },
  {
   "cell_type": "code",
   "execution_count": 52,
   "id": "e492cebc-f010-46ee-86f8-dbbd7ce8d8eb",
   "metadata": {},
   "outputs": [
    {
     "data": {
      "text/plain": [
       "[(2, 3), (3, 4)]"
      ]
     },
     "execution_count": 52,
     "metadata": {},
     "output_type": "execute_result"
    }
   ],
   "source": [
    "shapes"
   ]
  },
  {
   "cell_type": "code",
   "execution_count": 47,
   "id": "5fcd5bc9-a56f-4fdb-8a56-63a6233ece8d",
   "metadata": {},
   "outputs": [
    {
     "data": {
      "text/plain": [
       "[2, 3, 3, 4]"
      ]
     },
     "execution_count": 47,
     "metadata": {},
     "output_type": "execute_result"
    }
   ],
   "source": [
    "jax.tree_leaves(shapes)"
   ]
  },
  {
   "cell_type": "code",
   "execution_count": 48,
   "id": "4464ea2e-04e9-4bda-b3de-c1034a35214e",
   "metadata": {},
   "outputs": [
    {
     "data": {
      "text/plain": [
       "[DeviceArray([[2, 3],\n",
       "              [3, 4]], dtype=int32)]"
      ]
     },
     "execution_count": 48,
     "metadata": {},
     "output_type": "execute_result"
    }
   ],
   "source": [
    "jax.tree_leaves(jnp.array(shapes))"
   ]
  },
  {
   "cell_type": "code",
   "execution_count": 54,
   "id": "fe9bc6ae-eda5-40ed-b430-f527e4b35c9d",
   "metadata": {},
   "outputs": [
    {
     "data": {
      "text/plain": [
       "[DeviceArray([[1., 1., 1.],\n",
       "              [1., 1., 1.]], dtype=float32),\n",
       " DeviceArray([[1., 1., 1., 1.],\n",
       "              [1., 1., 1., 1.],\n",
       "              [1., 1., 1., 1.]], dtype=float32)]"
      ]
     },
     "execution_count": 54,
     "metadata": {},
     "output_type": "execute_result"
    }
   ],
   "source": [
    "a_tree = [jnp.zeros((2, 3)), jnp.zeros((3, 4))]\n",
    "\n",
    "# Try to make another tree with ones instead of zeros\n",
    "shapes = jax.tree_map(lambda x: jnp.array(x.shape), a_tree)\n",
    "jax.tree_map(jnp.ones, shapes)"
   ]
  },
  {
   "cell_type": "markdown",
   "id": "e15445ab-c818-48a7-aebc-59b13f9901f8",
   "metadata": {},
   "source": [
    "### Handling of None"
   ]
  },
  {
   "cell_type": "code",
   "execution_count": 56,
   "id": "c28143e2-306f-4d8f-8168-e58b8afe8ba0",
   "metadata": {},
   "outputs": [
    {
     "data": {
      "text/plain": [
       "[]"
      ]
     },
     "execution_count": 56,
     "metadata": {},
     "output_type": "execute_result"
    }
   ],
   "source": [
    "jax.tree_leaves([None, None, None])"
   ]
  },
  {
   "cell_type": "markdown",
   "id": "d9bbc11d-746e-4183-a1f3-db24c5900885",
   "metadata": {},
   "source": [
    "## Patterns\n",
    "### Transposing trees"
   ]
  },
  {
   "cell_type": "code",
   "execution_count": 57,
   "id": "5c0381c7-2052-4f1c-af15-2e1d048fd4c9",
   "metadata": {},
   "outputs": [
    {
     "data": {
      "text/plain": [
       "{'obs': [3, 4], 't': [1, 2]}"
      ]
     },
     "execution_count": 57,
     "metadata": {},
     "output_type": "execute_result"
    }
   ],
   "source": [
    "def tree_transpose(list_of_trees):\n",
    "    \"\"\"Convert a list of trees of identical structure into a single tree of lists\"\"\"\n",
    "    return jax.tree_multimap(lambda *xs: list(xs), *list_of_trees)\n",
    "\n",
    "# Convert a dataset from row-major to column-major:\n",
    "episode_steps = [dict(t=1, obs=3), dict(t=2, obs=4)]\n",
    "tree_transpose(episode_steps)"
   ]
  },
  {
   "cell_type": "code",
   "execution_count": 58,
   "id": "2fa9a600-b344-4e5f-a50c-0a774146a701",
   "metadata": {},
   "outputs": [
    {
     "data": {
      "text/plain": [
       "[{'t': 1, 'obs': 3}, {'t': 2, 'obs': 4}]"
      ]
     },
     "execution_count": 58,
     "metadata": {},
     "output_type": "execute_result"
    }
   ],
   "source": [
    "episode_steps"
   ]
  },
  {
   "cell_type": "code",
   "execution_count": null,
   "id": "12b2c0c6-aa48-4737-a00b-c61b5c376e40",
   "metadata": {},
   "outputs": [],
   "source": []
  }
 ],
 "metadata": {
  "kernelspec": {
   "display_name": "Python 3",
   "language": "python",
   "name": "python3"
  },
  "language_info": {
   "codemirror_mode": {
    "name": "ipython",
    "version": 3
   },
   "file_extension": ".py",
   "mimetype": "text/x-python",
   "name": "python",
   "nbconvert_exporter": "python",
   "pygments_lexer": "ipython3",
   "version": "3.7.10"
  }
 },
 "nbformat": 4,
 "nbformat_minor": 5
}
