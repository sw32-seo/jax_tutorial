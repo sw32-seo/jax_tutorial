{
 "cells": [
  {
   "cell_type": "markdown",
   "id": "46bdc1cd-5eba-4f8f-bc3f-fc2ff94437b1",
   "metadata": {},
   "source": [
    "# Colab TPU Setup"
   ]
  },
  {
   "cell_type": "code",
   "execution_count": null,
   "id": "f9e6df2b-2158-4c29-8b9c-74cbacabb455",
   "metadata": {},
   "outputs": [],
   "source": [
    "import jax.tools.colab_tpu\n",
    "jax.tools.colab_tpu()"
   ]
  },
  {
   "cell_type": "code",
   "execution_count": 1,
   "id": "d84910b3-f1b4-485d-90df-69e62aad378d",
   "metadata": {},
   "outputs": [
    {
     "data": {
      "text/plain": [
       "[GpuDevice(id=0, process_index=0),\n",
       " GpuDevice(id=1, process_index=0),\n",
       " GpuDevice(id=2, process_index=0),\n",
       " GpuDevice(id=3, process_index=0),\n",
       " GpuDevice(id=4, process_index=0),\n",
       " GpuDevice(id=5, process_index=0),\n",
       " GpuDevice(id=6, process_index=0),\n",
       " GpuDevice(id=7, process_index=0)]"
      ]
     },
     "execution_count": 1,
     "metadata": {},
     "output_type": "execute_result"
    }
   ],
   "source": [
    "import jax\n",
    "jax.devices()"
   ]
  },
  {
   "cell_type": "markdown",
   "id": "6a355b82-2688-4072-a96c-c0338126d258",
   "metadata": {},
   "source": [
    "# The basics"
   ]
  },
  {
   "cell_type": "code",
   "execution_count": 2,
   "id": "28984ca5-2887-4ca4-bb14-0c4245ac28d9",
   "metadata": {},
   "outputs": [
    {
     "data": {
      "text/plain": [
       "DeviceArray([11., 20., 29.], dtype=float32)"
      ]
     },
     "execution_count": 2,
     "metadata": {},
     "output_type": "execute_result"
    }
   ],
   "source": [
    "import numpy as np\n",
    "import jax.numpy as jnp\n",
    "\n",
    "x = np.arange(5)\n",
    "w = np.array([2., 3., 4.])\n",
    "\n",
    "def convolve(x, w):\n",
    "    output = []\n",
    "    for i in range(1, len(x)-1):\n",
    "        output.append(jnp.dot(x[i-1:i+2], w))\n",
    "    return jnp.array(output)\n",
    "\n",
    "convolve(x, w)"
   ]
  },
  {
   "cell_type": "code",
   "execution_count": 5,
   "id": "5729e95a-2e7c-42d8-b958-93c7a39c0b52",
   "metadata": {},
   "outputs": [
    {
     "data": {
      "text/plain": [
       "array([[ 0,  1,  2,  3,  4],\n",
       "       [ 5,  6,  7,  8,  9],\n",
       "       [10, 11, 12, 13, 14],\n",
       "       [15, 16, 17, 18, 19],\n",
       "       [20, 21, 22, 23, 24],\n",
       "       [25, 26, 27, 28, 29],\n",
       "       [30, 31, 32, 33, 34],\n",
       "       [35, 36, 37, 38, 39]])"
      ]
     },
     "execution_count": 5,
     "metadata": {},
     "output_type": "execute_result"
    }
   ],
   "source": [
    "n_devices = jax.local_device_count()\n",
    "xs = np.arange(5 * n_devices).reshape(-1, 5)\n",
    "ws = np.stack([w] * n_devices)\n",
    "\n",
    "xs"
   ]
  },
  {
   "cell_type": "code",
   "execution_count": 6,
   "id": "6ef8c4ee-64e6-4125-926a-5f073d96688c",
   "metadata": {},
   "outputs": [
    {
     "data": {
      "text/plain": [
       "array([[2., 3., 4.],\n",
       "       [2., 3., 4.],\n",
       "       [2., 3., 4.],\n",
       "       [2., 3., 4.],\n",
       "       [2., 3., 4.],\n",
       "       [2., 3., 4.],\n",
       "       [2., 3., 4.],\n",
       "       [2., 3., 4.]])"
      ]
     },
     "execution_count": 6,
     "metadata": {},
     "output_type": "execute_result"
    }
   ],
   "source": [
    "ws"
   ]
  },
  {
   "cell_type": "code",
   "execution_count": 8,
   "id": "0b143151-31ac-43ea-ad10-623fc64f0a9f",
   "metadata": {},
   "outputs": [
    {
     "data": {
      "text/plain": [
       "DeviceArray([[ 11.,  20.,  29.],\n",
       "             [ 56.,  65.,  74.],\n",
       "             [101., 110., 119.],\n",
       "             [146., 155., 164.],\n",
       "             [191., 200., 209.],\n",
       "             [236., 245., 254.],\n",
       "             [281., 290., 299.],\n",
       "             [326., 335., 344.]], dtype=float32)"
      ]
     },
     "execution_count": 8,
     "metadata": {},
     "output_type": "execute_result"
    }
   ],
   "source": [
    "jax.vmap(convolve)(xs, ws)"
   ]
  },
  {
   "cell_type": "code",
   "execution_count": 9,
   "id": "5f400027-359f-4def-8b48-94349006c147",
   "metadata": {},
   "outputs": [
    {
     "data": {
      "text/plain": [
       "ShardedDeviceArray([[ 11.,  20.,  29.],\n",
       "                    [ 56.,  65.,  74.],\n",
       "                    [101., 110., 119.],\n",
       "                    [146., 155., 164.],\n",
       "                    [191., 200., 209.],\n",
       "                    [236., 245., 254.],\n",
       "                    [281., 290., 299.],\n",
       "                    [326., 335., 344.]], dtype=float32)"
      ]
     },
     "execution_count": 9,
     "metadata": {},
     "output_type": "execute_result"
    }
   ],
   "source": [
    "jax.pmap(convolve)(xs, ws)"
   ]
  },
  {
   "cell_type": "code",
   "execution_count": 12,
   "id": "eecb716b-2830-473b-8659-5ccc4e5bf9c5",
   "metadata": {},
   "outputs": [
    {
     "data": {
      "text/plain": [
       "ShardedDeviceArray([[   78.,   138.,   198.],\n",
       "                    [ 1188.,  1383.,  1578.],\n",
       "                    [ 3648.,  3978.,  4308.],\n",
       "                    [ 7458.,  7923.,  8388.],\n",
       "                    [12618., 13218., 13818.],\n",
       "                    [19128., 19863., 20598.],\n",
       "                    [26988., 27858., 28728.],\n",
       "                    [36198., 37203., 38208.]], dtype=float32)"
      ]
     },
     "execution_count": 12,
     "metadata": {},
     "output_type": "execute_result"
    }
   ],
   "source": [
    "jax.pmap(convolve)(xs, jax.pmap(convolve)(xs, ws))"
   ]
  },
  {
   "cell_type": "markdown",
   "id": "ef30d4f6-eb34-4d88-be09-5c0053fd6c35",
   "metadata": {},
   "source": [
    "# Specifying <code>in_axes</code>"
   ]
  },
  {
   "cell_type": "code",
   "execution_count": 13,
   "id": "021b830c-aa8c-420f-9184-baf64879b53a",
   "metadata": {},
   "outputs": [
    {
     "data": {
      "text/plain": [
       "ShardedDeviceArray([[ 11.,  20.,  29.],\n",
       "                    [ 56.,  65.,  74.],\n",
       "                    [101., 110., 119.],\n",
       "                    [146., 155., 164.],\n",
       "                    [191., 200., 209.],\n",
       "                    [236., 245., 254.],\n",
       "                    [281., 290., 299.],\n",
       "                    [326., 335., 344.]], dtype=float32)"
      ]
     },
     "execution_count": 13,
     "metadata": {},
     "output_type": "execute_result"
    }
   ],
   "source": [
    "jax.pmap(convolve, in_axes=(0, None))(xs, w)"
   ]
  },
  {
   "cell_type": "markdown",
   "id": "dc5ef02b-87ed-41d4-8203-32d72d3d71a9",
   "metadata": {},
   "source": [
    "# <code>pmap</code> and <code>jit</code>"
   ]
  },
  {
   "cell_type": "markdown",
   "id": "a188a944-6245-4ca8-a1f9-31004e388953",
   "metadata": {},
   "source": [
    "<code>jax.pmap</code> JIT-compiles the function given to it as part of its operation fo there is no need to additionally <code>jax.jit</code> it"
   ]
  },
  {
   "cell_type": "markdown",
   "id": "7d885f11-3161-404b-98df-2a139e701158",
   "metadata": {},
   "source": [
    "# Communication between devices"
   ]
  },
  {
   "cell_type": "code",
   "execution_count": 14,
   "id": "76662de8-ca33-4441-8e04-17deb80efc8f",
   "metadata": {},
   "outputs": [
    {
     "data": {
      "text/plain": [
       "ShardedDeviceArray([[0.00816024, 0.01408451, 0.019437  ],\n",
       "                    [0.04154303, 0.04577465, 0.04959786],\n",
       "                    [0.07492582, 0.07746479, 0.07975872],\n",
       "                    [0.10830861, 0.10915493, 0.10991958],\n",
       "                    [0.14169139, 0.14084508, 0.14008044],\n",
       "                    [0.17507419, 0.17253523, 0.1702413 ],\n",
       "                    [0.20845698, 0.20422536, 0.20040216],\n",
       "                    [0.24183977, 0.2359155 , 0.23056301]], dtype=float32)"
      ]
     },
     "execution_count": 14,
     "metadata": {},
     "output_type": "execute_result"
    }
   ],
   "source": [
    "def normalized_convolution(x, w):\n",
    "    output = []\n",
    "    for i in range(1, len(x)-1):\n",
    "        output.append(jnp.dot(x[i-1:i+2], w))\n",
    "    output = jnp.array(output)\n",
    "    return output / jax.lax.psum(output, axis_name='p')\n",
    "\n",
    "jax.pmap(normalized_convolution, axis_name='p')(xs, ws)"
   ]
  },
  {
   "cell_type": "code",
   "execution_count": 16,
   "id": "c02a0f93-69c1-47cf-80a5-a2465abc41fa",
   "metadata": {},
   "outputs": [
    {
     "data": {
      "text/plain": [
       "DeviceArray([[0.00816024, 0.01408451, 0.019437  ],\n",
       "             [0.04154303, 0.04577465, 0.04959786],\n",
       "             [0.07492582, 0.07746479, 0.07975872],\n",
       "             [0.10830861, 0.10915493, 0.10991958],\n",
       "             [0.14169139, 0.14084508, 0.14008044],\n",
       "             [0.17507419, 0.17253523, 0.1702413 ],\n",
       "             [0.20845698, 0.20422536, 0.20040216],\n",
       "             [0.24183977, 0.2359155 , 0.23056301]], dtype=float32)"
      ]
     },
     "execution_count": 16,
     "metadata": {},
     "output_type": "execute_result"
    }
   ],
   "source": [
    "jax.vmap(normalized_convolution, axis_name='p')(xs, ws)"
   ]
  },
  {
   "cell_type": "markdown",
   "id": "ace05979-322c-4e34-a79d-d3ffb0f5623c",
   "metadata": {},
   "source": [
    "# Nesting <code>jax.pmap</code> and <code>jax.vmap</code>"
   ]
  },
  {
   "cell_type": "code",
   "execution_count": 17,
   "id": "8ae08144-ff43-4902-b0eb-fa9ca4e2050b",
   "metadata": {},
   "outputs": [
    {
     "ename": "NameError",
     "evalue": "name 'f' is not defined",
     "output_type": "error",
     "traceback": [
      "\u001b[0;31m---------------------------------------------------------------------------\u001b[0m",
      "\u001b[0;31mNameError\u001b[0m                                 Traceback (most recent call last)",
      "\u001b[0;32m<ipython-input-17-b5a7d8a2359c>\u001b[0m in \u001b[0;36m<module>\u001b[0;34m\u001b[0m\n\u001b[0;32m----> 1\u001b[0;31m \u001b[0mjax\u001b[0m\u001b[0;34m.\u001b[0m\u001b[0mvmap\u001b[0m\u001b[0;34m(\u001b[0m\u001b[0mjax\u001b[0m\u001b[0;34m.\u001b[0m\u001b[0mpmap\u001b[0m\u001b[0;34m(\u001b[0m\u001b[0mf\u001b[0m\u001b[0;34m,\u001b[0m \u001b[0maxis_name\u001b[0m\u001b[0;34m=\u001b[0m\u001b[0;34m'i'\u001b[0m\u001b[0;34m)\u001b[0m\u001b[0;34m,\u001b[0m \u001b[0maxis_name\u001b[0m\u001b[0;34m=\u001b[0m\u001b[0;34m'j'\u001b[0m\u001b[0;34m)\u001b[0m\u001b[0;34m\u001b[0m\u001b[0;34m\u001b[0m\u001b[0m\n\u001b[0m",
      "\u001b[0;31mNameError\u001b[0m: name 'f' is not defined"
     ]
    }
   ],
   "source": [
    "jax.vmap(jax.pmap(f, axis_name='i'), axis_name='j')"
   ]
  },
  {
   "cell_type": "markdown",
   "id": "3c1d288d-aba3-4bfc-8ff1-36267b1ef726",
   "metadata": {},
   "source": [
    "# Example"
   ]
  },
  {
   "cell_type": "markdown",
   "id": "22dbcf10-6598-43d6-9ff9-3d93357e99d3",
   "metadata": {},
   "source": [
    "examples of a regression training loop with data parallelism, where each batch is split into sub-batches which are evaluated on separate devices."
   ]
  },
  {
   "cell_type": "markdown",
   "id": "023c668d-7878-4ca8-8707-182c10eb2599",
   "metadata": {},
   "source": [
    "- the <code>update()</code> function\n",
    "- the replication of parameters and splitting of data across devices."
   ]
  },
  {
   "cell_type": "code",
   "execution_count": 27,
   "id": "bee90e3a-928c-4552-ac76-c8786e5ebb22",
   "metadata": {},
   "outputs": [],
   "source": [
    "from typing import NamedTuple\n",
    "import functools\n",
    "\n",
    "class Params(NamedTuple):\n",
    "    weight: jnp.ndarray\n",
    "    bias: jnp.ndarray\n",
    "    \n",
    "\n",
    "def init(rng) -> Params:\n",
    "    \"\"\"Returns the initial model params.\"\"\"\n",
    "    weights_key, bias_key = jax.random.split(rng)\n",
    "    weight = jax.random.normal(weights_key, ())\n",
    "    bias = jax.random.normal(bias_key, ())\n",
    "\n",
    "    return Params(weight, bias)\n",
    "\n",
    "\n",
    "def loss_fn(params: Params, xs: jnp.ndarray, ys: jnp.ndarray) -> jnp.ndarray:\n",
    "    \"\"\"Computes the least squares error of the model's predictions on x against y.\"\"\"\n",
    "    pred = params.weight * xs + params.bias\n",
    "    return jnp.mean((pred - ys) ** 2)\n",
    "\n",
    "lr = 0.005\n",
    "\n",
    "# So far, the code is identical to the single-device case. Here's what's new:\n",
    "\n",
    "\n",
    "# Remember that the `axis_name` is just an arbitrary string label used\n",
    "# to later tell `jax.lax.pmean` which axis to reduce over. Here, we call it\n",
    "# 'num_devices', but could have used anything, so long as `pmean` used the same.\n",
    "@functools.partial(jax.pmap, axis_name='num_devices')\n",
    "def update(params: Params, xs: jnp.ndarray, ys: jnp.ndarray) -> Params:\n",
    "    \"\"\"Performs one SGD update step on params using the given data\"\"\"\n",
    "    \n",
    "    # Compute the gradients on the given minibatch (individually on each device).\n",
    "    loss, grads = jax.value_and_grad(loss_fn)(params, xs, ys)\n",
    "    \n",
    "    # Combine the gradient across all devices (by taking their mean).\n",
    "    grads = jax.lax.pmean(grads, axis_name='num_devices')\n",
    "    \n",
    "    # Also combine the loss. Unnecessary for the update, but useful for logging.\n",
    "    loss = jax.lax.pmean(loss, axis_name='num_devices')\n",
    "    \n",
    "    # Each device performs its own update, but since we start with the same params\n",
    "    # and synchronise gradients, the params stay in sync.\n",
    "    new_params = jax.tree_multimap(\n",
    "        lambda param, g: param - g * lr, params, grads)\n",
    "    \n",
    "    return new_params, loss"
   ]
  },
  {
   "cell_type": "code",
   "execution_count": 28,
   "id": "6f712f4a-0b65-45fe-898b-7b9915ed0943",
   "metadata": {},
   "outputs": [],
   "source": [
    "# Generate true data from y = w*x + b + noise\n",
    "true_w, true_b = 2, -1\n",
    "xs = np.random.normal(size=(128, 1))\n",
    "noise = 0.5 * np.random.normal(size=(128, 1))\n",
    "ys = xs * true_w + true_b + noise\n",
    "\n",
    "# Initialise parameters and replicate across devices.\n",
    "params = init(jax.random.PRNGKey(123))\n",
    "n_devices = jax.local_device_count()\n",
    "replicated_params = jax.tree_map(lambda x: jnp.array([x] * n_devices), params)"
   ]
  },
  {
   "cell_type": "code",
   "execution_count": 29,
   "id": "a89bdad8-588f-49f5-9f66-d5a1e18fc538",
   "metadata": {},
   "outputs": [
    {
     "data": {
      "text/plain": [
       "jaxlib.xla_extension.DeviceArray"
      ]
     },
     "execution_count": 29,
     "metadata": {},
     "output_type": "execute_result"
    }
   ],
   "source": [
    "type(replicated_params.weight)"
   ]
  },
  {
   "cell_type": "code",
   "execution_count": 39,
   "id": "0e4235c7-68d5-446c-913e-8f943e8ac2fe",
   "metadata": {},
   "outputs": [
    {
     "data": {
      "text/plain": [
       "numpy.ndarray"
      ]
     },
     "execution_count": 39,
     "metadata": {},
     "output_type": "execute_result"
    }
   ],
   "source": [
    "def split(arr):\n",
    "    \"\"\"Splits the first axis of 'arr' evenly across the number of devices\"\"\"\n",
    "    return arr.reshape(n_devices, arr.shape[0] // n_devices, *arr.shape[1:])\n",
    "\n",
    "# Reshape xs and ys for the pmapped 'update()'.\n",
    "x_split = split(xs)\n",
    "y_split = split(ys)\n",
    "\n",
    "type(x_split)"
   ]
  },
  {
   "cell_type": "code",
   "execution_count": 40,
   "id": "a53bd8d6-460e-4606-8aa1-25d7401b8b06",
   "metadata": {},
   "outputs": [
    {
     "name": "stdout",
     "output_type": "stream",
     "text": [
      "after first 'update()', 'replicated_params.weight' is a <class 'jax.interpreters.pxla.ShardedDeviceArray'>\n",
      "after first 'update()', 'loss' is a <class 'jax.interpreters.pxla.ShardedDeviceArray'>\n",
      "after first 'update()', 'x_split' is a <class 'numpy.ndarray'>\n",
      "Step   0, loss: 2.123\n",
      "Step 100, loss: 0.551\n",
      "Step 200, loss: 0.303\n",
      "Step 300, loss: 0.263\n",
      "Step 400, loss: 0.257\n",
      "Step 500, loss: 0.256\n",
      "Step 600, loss: 0.256\n",
      "Step 700, loss: 0.256\n",
      "Step 800, loss: 0.256\n",
      "Step 900, loss: 0.256\n"
     ]
    }
   ],
   "source": [
    "def type_after_update(name, obj):\n",
    "    print(f\"after first 'update()', '{name}' is a\", type(obj))\n",
    "    \n",
    "\n",
    "# Actual training loop.\n",
    "for i in range(1000):\n",
    "    \n",
    "    # This is where the params and data gets communicated to devices:\n",
    "    replicated_params, loss = update(replicated_params, x_split, y_split)\n",
    "    \n",
    "    # The returned 'replicated_params' and 'loss' are now both ShardedDeviceArrays,\n",
    "    # indicated that they're on the devices.\n",
    "    # 'x_split', of course, remains a NumPy array on the host.\n",
    "    if i == 0:\n",
    "        type_after_update('replicated_params.weight', replicated_params.weight)\n",
    "        type_after_update('loss', loss)\n",
    "        type_after_update('x_split', x_split)\n",
    "        \n",
    "    if i % 100 == 0:\n",
    "        # Note that loss is actually an array of shape [num_devices], with identical\n",
    "        # entries, because each device returns its copy of the loss.\n",
    "        # So, we take the first element to print it.\n",
    "        print(f\"Step {i:3d}, loss: {loss[0]:.3f}\")\n",
    "        \n",
    "\n",
    "# Plot results.\n",
    "\n",
    "# Like the loss, the leaves of params have an extra leading dimension,\n",
    "# so we take the params from the first device.\n",
    "params = jax.device_get(jax.tree_map(lambda x: x[0], replicated_params))"
   ]
  },
  {
   "cell_type": "code",
   "execution_count": 41,
   "id": "16487bc8-c151-456a-be81-c615cb2fc067",
   "metadata": {},
   "outputs": [
    {
     "data": {
      "image/png": "[encoded data removed]",
      "text/plain": [
       "<Figure size 432x288 with 1 Axes>"
      ]
     },
     "metadata": {
      "needs_background": "light"
     },
     "output_type": "display_data"
    }
   ],
   "source": [
    "import matplotlib.pyplot as plt\n",
    "plt.scatter(xs, ys)\n",
    "plt.plot(xs, params.weight * xs + params.bias, c='red', label='Model Prediction')\n",
    "plt.legend()\n",
    "plt.show()"
   ]
  },
  {
   "cell_type": "markdown",
   "id": "ff1da592-c363-4721-b6b1-3e8719d01394",
   "metadata": {},
   "source": [
    "# Aside: hosts and devices in JAX"
   ]
  },
  {
   "cell_type": "code",
   "execution_count": 43,
   "id": "d22e3894-b0da-40f1-a012-e57283e1660e",
   "metadata": {},
   "outputs": [
    {
     "data": {
      "text/plain": [
       "[GpuDevice(id=0, process_index=0),\n",
       " GpuDevice(id=1, process_index=0),\n",
       " GpuDevice(id=2, process_index=0),\n",
       " GpuDevice(id=3, process_index=0),\n",
       " GpuDevice(id=4, process_index=0),\n",
       " GpuDevice(id=5, process_index=0),\n",
       " GpuDevice(id=6, process_index=0),\n",
       " GpuDevice(id=7, process_index=0)]"
      ]
     },
     "execution_count": 43,
     "metadata": {},
     "output_type": "execute_result"
    }
   ],
   "source": [
    "jax.devices()"
   ]
  },
  {
   "cell_type": "code",
   "execution_count": null,
   "id": "e12d7798-1eef-4377-bb24-ee0015317171",
   "metadata": {},
   "outputs": [],
   "source": []
  }
 ],
 "metadata": {
  "kernelspec": {
   "display_name": "Python 3",
   "language": "python",
   "name": "python3"
  },
  "language_info": {
   "codemirror_mode": {
    "name": "ipython",
    "version": 3
   },
   "file_extension": ".py",
   "mimetype": "text/x-python",
   "name": "python",
   "nbconvert_exporter": "python",
   "pygments_lexer": "ipython3",
   "version": "3.7.10"
  }
 },
 "nbformat": 4,
 "nbformat_minor": 5
}
