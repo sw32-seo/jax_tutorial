{
 "cells": [
  {
   "cell_type": "markdown",
   "id": "b970a5b3-d165-456c-8d86-56567f451edc",
   "metadata": {},
   "source": [
    "# Higher-order derivatives"
   ]
  },
  {
   "cell_type": "code",
   "execution_count": 1,
   "id": "cad0390d-74a3-47f6-9dd8-0ef55a55378e",
   "metadata": {},
   "outputs": [],
   "source": [
    "import jax\n",
    "\n",
    "f = lambda x: x**3 + 2*x**2 - 3*x + 1\n",
    "\n",
    "dfdx = jax.grad(f)"
   ]
  },
  {
   "cell_type": "code",
   "execution_count": 2,
   "id": "af7328fe-0ac9-455f-8d60-65da0fe1d525",
   "metadata": {},
   "outputs": [],
   "source": [
    "d2fdx = jax.grad(dfdx)\n",
    "d3fdx = jax.grad(d2fdx)\n",
    "d4fdx = jax.grad(d3fdx)"
   ]
  },
  {
   "cell_type": "code",
   "execution_count": 3,
   "id": "4f62ec48-e5de-4528-a5aa-e2b2d868c4d7",
   "metadata": {},
   "outputs": [
    {
     "name": "stdout",
     "output_type": "stream",
     "text": [
      "4.0\n",
      "10.0\n",
      "6.0\n",
      "0.0\n"
     ]
    }
   ],
   "source": [
    "print(dfdx(1.))\n",
    "print(d2fdx(1.))\n",
    "print(d3fdx(1.))\n",
    "print(d4fdx(1.))"
   ]
  },
  {
   "cell_type": "code",
   "execution_count": 4,
   "id": "e56c7614-1a84-4a5f-b5ed-f9f793acd510",
   "metadata": {},
   "outputs": [],
   "source": [
    "def hessian(f):\n",
    "    return jax.jacfwd(jax.grad(f))"
   ]
  },
  {
   "cell_type": "code",
   "execution_count": 5,
   "id": "8617fbb5-dbe5-4df1-827c-fbf349d454e4",
   "metadata": {},
   "outputs": [
    {
     "data": {
      "text/plain": [
       "DeviceArray([[2., 0., 0.],\n",
       "             [0., 2., 0.],\n",
       "             [0., 0., 2.]], dtype=float32)"
      ]
     },
     "execution_count": 5,
     "metadata": {},
     "output_type": "execute_result"
    }
   ],
   "source": [
    "import jax.numpy as jnp\n",
    "\n",
    "def f(x):\n",
    "    return jnp.dot(x, x)\n",
    "\n",
    "hessian(f)(jnp.array([1., 2., 3.]))"
   ]
  },
  {
   "cell_type": "markdown",
   "id": "00f23f88-2dd6-45b3-be79-5c1a3cad9c00",
   "metadata": {},
   "source": [
    "# Higher order optimization"
   ]
  },
  {
   "cell_type": "code",
   "execution_count": 6,
   "id": "c113bc0f-5f05-4a8a-8ffa-74735212fb7c",
   "metadata": {},
   "outputs": [
    {
     "ename": "NameError",
     "evalue": "name 'params' is not defined",
     "output_type": "error",
     "traceback": [
      "\u001b[0;31m---------------------------------------------------------------------------\u001b[0m",
      "\u001b[0;31mNameError\u001b[0m                                 Traceback (most recent call last)",
      "\u001b[0;32m<ipython-input-6-32de856ae61c>\u001b[0m in \u001b[0;36m<module>\u001b[0;34m\u001b[0m\n\u001b[1;32m      4\u001b[0m     \u001b[0;32mreturn\u001b[0m \u001b[0mloss_fn\u001b[0m\u001b[0;34m(\u001b[0m\u001b[0mparams\u001b[0m \u001b[0;34m-\u001b[0m \u001b[0mlr\u001b[0m \u001b[0;34m*\u001b[0m \u001b[0mgrads\u001b[0m\u001b[0;34m,\u001b[0m \u001b[0mdata\u001b[0m\u001b[0;34m)\u001b[0m\u001b[0;34m\u001b[0m\u001b[0;34m\u001b[0m\u001b[0m\n\u001b[1;32m      5\u001b[0m \u001b[0;34m\u001b[0m\u001b[0m\n\u001b[0;32m----> 6\u001b[0;31m \u001b[0mmeta_grads\u001b[0m \u001b[0;34m=\u001b[0m \u001b[0mjax\u001b[0m\u001b[0;34m.\u001b[0m\u001b[0mgrad\u001b[0m\u001b[0;34m(\u001b[0m\u001b[0mmeta_loss_fn\u001b[0m\u001b[0;34m)\u001b[0m\u001b[0;34m(\u001b[0m\u001b[0mparams\u001b[0m\u001b[0;34m,\u001b[0m \u001b[0mdata\u001b[0m\u001b[0;34m)\u001b[0m\u001b[0;34m\u001b[0m\u001b[0;34m\u001b[0m\u001b[0m\n\u001b[0m",
      "\u001b[0;31mNameError\u001b[0m: name 'params' is not defined"
     ]
    }
   ],
   "source": [
    "def meta_loss_fn(params, data):\n",
    "    \"\"\"Computes the loss after one step of SGD.\"\"\"\n",
    "    grads = jax.grad(loss_fn)(params, data)\n",
    "    return loss_fn(params - lr * grads, data)\n",
    "\n",
    "meta_grads = jax.grad(meta_loss_fn)(params, data)"
   ]
  },
  {
   "cell_type": "markdown",
   "id": "c480317f-6a05-4668-87c8-6c645cd039c9",
   "metadata": {},
   "source": [
    "# Stopping gradients"
   ]
  },
  {
   "cell_type": "code",
   "execution_count": 7,
   "id": "b59df6dd-a21f-4a46-ad5e-62689224fbda",
   "metadata": {},
   "outputs": [],
   "source": [
    "# Value function and initial parameters\n",
    "value_fn = lambda theta, state: jnp.dot(theta, state)\n",
    "theta = jnp.array([0.1, -0.1, 0.])"
   ]
  },
  {
   "cell_type": "code",
   "execution_count": 8,
   "id": "313e2983-2a91-403e-bbcb-5ccbb68ad868",
   "metadata": {},
   "outputs": [],
   "source": [
    "# An example transition.\n",
    "s_tm1 = jnp.array([1., 2., -1])\n",
    "r_t = jnp.array(1.)\n",
    "s_t = jnp.array([2., 1., 0.])"
   ]
  },
  {
   "cell_type": "code",
   "execution_count": 10,
   "id": "365ff6f5-94a2-4232-a0ae-7880bd8c4e1f",
   "metadata": {},
   "outputs": [
    {
     "data": {
      "text/plain": [
       "DeviceArray([ 2.4, -2.4,  2.4], dtype=float32)"
      ]
     },
     "execution_count": 10,
     "metadata": {},
     "output_type": "execute_result"
    }
   ],
   "source": [
    "def td_loss(theta, s_tm1, r_t, s_t):\n",
    "    v_tm1 = value_fn(theta, s_tm1)\n",
    "    target = r_t + value_fn(theta, s_t)\n",
    "    return (target - v_tm1) ** 2\n",
    "\n",
    "td_update = jax.grad(td_loss)\n",
    "delta_theta = td_update(theta, s_tm1, r_t, s_t)\n",
    "\n",
    "delta_theta"
   ]
  },
  {
   "cell_type": "code",
   "execution_count": 11,
   "id": "ae3198d4-b79d-40c9-aec2-5f2020bf0ca5",
   "metadata": {},
   "outputs": [
    {
     "data": {
      "text/plain": [
       "DeviceArray([-2.4, -4.8,  2.4], dtype=float32)"
      ]
     },
     "execution_count": 11,
     "metadata": {},
     "output_type": "execute_result"
    }
   ],
   "source": [
    "def td_loss(theta, s_tm1, r_t, s_t):\n",
    "    v_tm1 = value_fn(theta, s_tm1)\n",
    "    target = r_t + value_fn(theta, s_t)\n",
    "    return (jax.lax.stop_gradient(target) - v_tm1) ** 2\n",
    "\n",
    "td_update = jax.grad(td_loss)\n",
    "delta_theta = td_update(theta, s_tm1, r_t, s_t)\n",
    "\n",
    "delta_theta"
   ]
  },
  {
   "cell_type": "markdown",
   "id": "5d45da79-92f0-4fb8-85bb-eb71f00c7e71",
   "metadata": {},
   "source": [
    "# Straight-through estimator using <code>stop_gradient</code>"
   ]
  },
  {
   "cell_type": "code",
   "execution_count": 12,
   "id": "937c27b5-417e-4758-bafa-8680c035ce31",
   "metadata": {},
   "outputs": [
    {
     "name": "stdout",
     "output_type": "stream",
     "text": [
      "f(x):  3.0\n",
      "straight_through_f(x): 3.0\n",
      "grad(f)(x): 0.0\n",
      "grad(straight_through_f)(x): 1.0\n"
     ]
    }
   ],
   "source": [
    "def f(x):\n",
    "    return jnp.round(x) # non-differentiable\n",
    "\n",
    "def straight_through_f(x):\n",
    "    return x + jax.lax.stop_gradient(f(x) - x)\n",
    "\n",
    "print(\"f(x): \", f(3.2))\n",
    "print(\"straight_through_f(x):\", straight_through_f(3.2))\n",
    "\n",
    "print(\"grad(f)(x):\", jax.grad(f)(3.2))\n",
    "print(\"grad(straight_through_f)(x):\", jax.grad(straight_through_f)(3.2))"
   ]
  },
  {
   "cell_type": "markdown",
   "id": "7bf8a6a1-c89b-413b-97fa-8d459a323bda",
   "metadata": {},
   "source": [
    "# Per-example gradients"
   ]
  },
  {
   "cell_type": "code",
   "execution_count": 13,
   "id": "dd7f9c21-965f-4bec-93f6-27c9b20f9281",
   "metadata": {},
   "outputs": [
    {
     "data": {
      "text/plain": [
       "DeviceArray([[-2.4, -4.8,  2.4],\n",
       "             [-2.4, -4.8,  2.4]], dtype=float32)"
      ]
     },
     "execution_count": 13,
     "metadata": {},
     "output_type": "execute_result"
    }
   ],
   "source": [
    "perex_grads = jax.jit(jax.vmap(jax.grad(td_loss), in_axes=(None, 0, 0, 0)))\n",
    "\n",
    "# Test it:\n",
    "batched_s_tm1 = jnp.stack([s_tm1, s_tm1])\n",
    "batched_r_t = jnp.stack([r_t, r_t])\n",
    "batched_s_t = jnp.stack([s_t, s_t])\n",
    "\n",
    "perex_grads(theta, batched_s_tm1, batched_r_t, batched_s_t)"
   ]
  },
  {
   "cell_type": "code",
   "execution_count": 14,
   "id": "e75d1b1a-4e81-4513-b2db-8181d4bbc7db",
   "metadata": {},
   "outputs": [
    {
     "data": {
      "text/plain": [
       "DeviceArray([-2.4, -4.8,  2.4], dtype=float32)"
      ]
     },
     "execution_count": 14,
     "metadata": {},
     "output_type": "execute_result"
    }
   ],
   "source": [
    "dtdloss_dtheta = jax.grad(td_loss)\n",
    "dtdloss_dtheta(theta, s_tm1, r_t, s_t)"
   ]
  },
  {
   "cell_type": "code",
   "execution_count": 15,
   "id": "c39df3d5-c571-4a2d-9dce-7c8c6312e66b",
   "metadata": {},
   "outputs": [
    {
     "data": {
      "text/plain": [
       "DeviceArray([[-2.4, -4.8,  2.4],\n",
       "             [-2.4, -4.8,  2.4]], dtype=float32)"
      ]
     },
     "execution_count": 15,
     "metadata": {},
     "output_type": "execute_result"
    }
   ],
   "source": [
    "almost_perex_grads = jax.vmap(dtdloss_dtheta)\n",
    "\n",
    "batched_theta = jnp.stack([theta, theta])\n",
    "almost_perex_grads(batched_theta, batched_s_tm1, batched_r_t, batched_s_t)"
   ]
  },
  {
   "cell_type": "code",
   "execution_count": 17,
   "id": "969aa607-8e88-4072-a7de-7804576e421a",
   "metadata": {},
   "outputs": [
    {
     "data": {
      "text/plain": [
       "DeviceArray([[-2.4, -4.8,  2.4],\n",
       "             [-2.4, -4.8,  2.4]], dtype=float32)"
      ]
     },
     "execution_count": 17,
     "metadata": {},
     "output_type": "execute_result"
    }
   ],
   "source": [
    "inefficient_perex_grads = jax.vmap(dtdloss_dtheta, in_axes=(None, 0, 0, 0))\n",
    "\n",
    "inefficient_perex_grads(theta, batched_s_tm1, batched_r_t, batched_s_t)"
   ]
  },
  {
   "cell_type": "code",
   "execution_count": 19,
   "id": "c8b63392-918c-4624-a4b4-1bdac0f05276",
   "metadata": {},
   "outputs": [
    {
     "data": {
      "text/plain": [
       "DeviceArray([[-2.4, -4.8,  2.4],\n",
       "             [-2.4, -4.8,  2.4]], dtype=float32)"
      ]
     },
     "execution_count": 19,
     "metadata": {},
     "output_type": "execute_result"
    }
   ],
   "source": [
    "perex_grads = jax.jit(inefficient_perex_grads)\n",
    "\n",
    "perex_grads(theta, batched_s_tm1, batched_r_t, batched_s_t)"
   ]
  },
  {
   "cell_type": "code",
   "execution_count": 20,
   "id": "6e0beb44-41a9-4a8c-b2bb-c123f20cb548",
   "metadata": {},
   "outputs": [
    {
     "name": "stdout",
     "output_type": "stream",
     "text": [
      "5.7 ms ± 17.1 µs per loop (mean ± std. dev. of 7 runs, 100 loops each)\n",
      "40.6 µs ± 4.14 µs per loop (mean ± std. dev. of 7 runs, 10000 loops each)\n"
     ]
    }
   ],
   "source": [
    "%timeit inefficient_perex_grads(theta, batched_s_tm1, batched_r_t, batched_s_t).block_until_ready()\n",
    "%timeit perex_grads(theta, batched_s_tm1, batched_r_t, batched_s_t).block_until_ready()"
   ]
  },
  {
   "cell_type": "code",
   "execution_count": null,
   "id": "f8319b0e-09c0-4bf2-8694-744d58e0f561",
   "metadata": {},
   "outputs": [],
   "source": []
  }
 ],
 "metadata": {
  "kernelspec": {
   "display_name": "Python 3",
   "language": "python",
   "name": "python3"
  },
  "language_info": {
   "codemirror_mode": {
    "name": "ipython",
    "version": 3
   },
   "file_extension": ".py",
   "mimetype": "text/x-python",
   "name": "python",
   "nbconvert_exporter": "python",
   "pygments_lexer": "ipython3",
   "version": "3.7.10"
  }
 },
 "nbformat": 4,
 "nbformat_minor": 5
}
