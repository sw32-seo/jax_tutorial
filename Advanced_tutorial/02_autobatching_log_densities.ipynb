{
 "cells": [
  {
   "cell_type": "markdown",
   "id": "69f87c76-b75e-4713-954c-ec6b172c27f5",
   "metadata": {},
   "source": [
    "# Autobatching log-densities example"
   ]
  },
  {
   "cell_type": "code",
   "execution_count": 3,
   "id": "a0841386-7bc2-42ad-a18c-b45940de26b0",
   "metadata": {},
   "outputs": [],
   "source": [
    "import functools\n",
    "import itertools\n",
    "import re\n",
    "import sys\n",
    "import time\n",
    "\n",
    "from matplotlib.pyplot import *\n",
    "\n",
    "import jax\n",
    "\n",
    "from jax import lax, random\n",
    "import jax.numpy as jnp\n",
    "import jax.scipy as jsp\n",
    "\n",
    "import numpy as np\n",
    "import scipy as sp"
   ]
  },
  {
   "cell_type": "markdown",
   "id": "d9fea346-2574-48fd-baad-c24039eabdca",
   "metadata": {},
   "source": [
    "## Generate a fake binary classification dataset"
   ]
  },
  {
   "cell_type": "code",
   "execution_count": 4,
   "id": "e5804dbf-4ccf-4196-8079-a4618b893430",
   "metadata": {},
   "outputs": [],
   "source": [
    "np.random.seed(10009)\n",
    "\n",
    "num_features = 10\n",
    "num_points = 100\n",
    "\n",
    "true_beta = np.random.randn(num_features).astype(jnp.float32)\n",
    "all_x = np.random.randn(num_points, num_features).astype(jnp.float32)\n",
    "y = (np.random.rand(num_points) < sp.special.expit(all_x.dot(true_beta))).astype(jnp.int32)"
   ]
  },
  {
   "cell_type": "code",
   "execution_count": 5,
   "id": "ddadeb78-3925-4adb-ab29-a8fcf9db9853",
   "metadata": {},
   "outputs": [
    {
     "data": {
      "text/plain": [
       "array([0, 0, 0, 1, 1, 1, 0, 1, 1, 1, 1, 1, 0, 1, 0, 0, 0, 1, 1, 1, 1, 0,\n",
       "       1, 0, 0, 0, 0, 0, 1, 0, 1, 0, 0, 0, 1, 0, 0, 0, 1, 0, 0, 0, 0, 0,\n",
       "       1, 1, 0, 1, 0, 0, 0, 1, 1, 0, 0, 1, 0, 0, 0, 0, 0, 1, 1, 0, 0, 0,\n",
       "       0, 1, 1, 0, 0, 0, 1, 1, 1, 1, 1, 1, 0, 0, 0, 1, 1, 0, 1, 0, 1, 1,\n",
       "       1, 0, 1, 0, 0, 0, 0, 1, 0, 1, 0, 0], dtype=int32)"
      ]
     },
     "execution_count": 5,
     "metadata": {},
     "output_type": "execute_result"
    }
   ],
   "source": [
    "y"
   ]
  },
  {
   "cell_type": "markdown",
   "id": "c7a903bb-60bc-42ee-a603-17801aa4f01b",
   "metadata": {},
   "source": [
    "## Write the log-joint function for the model"
   ]
  },
  {
   "cell_type": "markdown",
   "id": "e75c208d-e4d1-4795-896e-8d784d7566f9",
   "metadata": {},
   "source": [
    "### Non-batched"
   ]
  },
  {
   "cell_type": "code",
   "execution_count": 7,
   "id": "4281756d-3b99-4eca-ad52-05ce0878a23b",
   "metadata": {},
   "outputs": [],
   "source": [
    "def log_joint(beta):\n",
    "    result = 0.\n",
    "    # Note that no `axis` parameter is provided to `jnp.sum`.\n",
    "    result = result + jnp.sum(jsp.stats.norm.logpdf(beta, loc=0., scale=1.))\n",
    "    result = result + jnp.sum(-jnp.log(1 + jnp.exp(-(2*y-1) * jnp.dot(all_x, beta))))\n",
    "    return result"
   ]
  },
  {
   "cell_type": "code",
   "execution_count": 8,
   "id": "6daf85e7-9381-4b96-ad20-3512a96c9fa0",
   "metadata": {},
   "outputs": [
    {
     "data": {
      "text/plain": [
       "DeviceArray(-213.2356, dtype=float32)"
      ]
     },
     "execution_count": 8,
     "metadata": {},
     "output_type": "execute_result"
    }
   ],
   "source": [
    "log_joint(np.random.randn(num_features))"
   ]
  },
  {
   "cell_type": "code",
   "execution_count": 9,
   "id": "05446384-5738-4b38-9be5-325a48c82a49",
   "metadata": {},
   "outputs": [
    {
     "name": "stdout",
     "output_type": "stream",
     "text": [
      "Caught expected exception Incompatible shapes for broadcasting: ((100, 10), (1, 100))\n"
     ]
    }
   ],
   "source": [
    "# This doen't work, because we didn't write `log_prob()` to handle batching\n",
    "try:\n",
    "    batch_size = 10\n",
    "    batched_test_beta = np.random.randn(batch_size, num_features)\n",
    "\n",
    "    log_joint(np.random.randn(batch_size, num_features))\n",
    "except ValueError as e:\n",
    "     print(\"Caught expected exception \" + str(e))"
   ]
  },
  {
   "cell_type": "markdown",
   "id": "c4841507-4fa7-4c73-a210-ce31dce28171",
   "metadata": {},
   "source": [
    "### Manually batched"
   ]
  },
  {
   "cell_type": "code",
   "execution_count": 10,
   "id": "9ca1c35e-3c6c-49cd-be13-c6c3c060aa7d",
   "metadata": {},
   "outputs": [],
   "source": [
    "def batched_log_joint(beta):\n",
    "    result = 0.\n",
    "    # Here (and below) `sum` needs an `axis` parameter. At best, forgetting to set axis\n",
    "    # or setting it incorrectly yields an error; at worst, it silently changes the\n",
    "    # semantics of the model.\n",
    "    result = result + jnp.sum(jsp.stats.norm.logpdf(beta, loc=0., scale=1.),\n",
    "                           axis=-1)\n",
    "    # Note the multiple transposes. Getting this right is not rocket science,\n",
    "    # but it's also not totally mindless. (I didn't get it right on the first\n",
    "    # try.)\n",
    "    result = result + jnp.sum(-jnp.log(1 + jnp.exp(-(2*y-1) * jnp.dot(all_x, beta.T).T)),\n",
    "                           axis=-1)\n",
    "    return result"
   ]
  },
  {
   "cell_type": "code",
   "execution_count": 11,
   "id": "85202bed-81cf-47ac-a918-ead4424dd2cc",
   "metadata": {},
   "outputs": [
    {
     "data": {
      "text/plain": [
       "DeviceArray([-147.84033 , -207.02205 , -109.26076 , -243.80833 ,\n",
       "             -163.02911 , -143.8485  , -160.28772 , -113.771706,\n",
       "             -126.60543 , -190.81992 ], dtype=float32)"
      ]
     },
     "execution_count": 11,
     "metadata": {},
     "output_type": "execute_result"
    }
   ],
   "source": [
    "batch_size = 10\n",
    "batched_test_beta = np.random.randn(batch_size, num_features)\n",
    "\n",
    "batched_log_joint(batched_test_beta)"
   ]
  },
  {
   "cell_type": "markdown",
   "id": "836207b9-9a7f-4ce9-abbe-36a0a7fccc65",
   "metadata": {},
   "source": [
    "### Autobatched with vmap"
   ]
  },
  {
   "cell_type": "code",
   "execution_count": 13,
   "id": "5a2ea2ac-f119-4299-ba9e-4a97c1e51ee0",
   "metadata": {},
   "outputs": [
    {
     "data": {
      "text/plain": [
       "DeviceArray([-147.84033 , -207.02205 , -109.26076 , -243.80833 ,\n",
       "             -163.02911 , -143.8485  , -160.28772 , -113.771706,\n",
       "             -126.60543 , -190.81992 ], dtype=float32)"
      ]
     },
     "execution_count": 13,
     "metadata": {},
     "output_type": "execute_result"
    }
   ],
   "source": [
    "vmap_batched_log_joint = jax.vmap(log_joint)\n",
    "vmap_batched_log_joint(batched_test_beta)"
   ]
  },
  {
   "cell_type": "markdown",
   "id": "0a9ebea6-a237-4481-96fe-78694c998411",
   "metadata": {},
   "source": [
    "## Self-contained variational inference example"
   ]
  },
  {
   "cell_type": "markdown",
   "id": "95e729c6-61f7-47f1-b368-cb10fc507682",
   "metadata": {},
   "source": [
    "### Set up the (batched) log-joint function"
   ]
  },
  {
   "cell_type": "code",
   "execution_count": 15,
   "id": "df4f80cc-f418-4d79-86c9-f0037c7763cc",
   "metadata": {},
   "outputs": [],
   "source": [
    "@jax.jit\n",
    "def log_joint(beta):\n",
    "    result = 0.\n",
    "    # Note that no `axis` parameter is provided to `jnp.sum`.\n",
    "    result = result + jnp.sum(jsp.stats.norm.logpdf(beta, loc=0., scale=10.))\n",
    "    result = result + jnp.sum(-jnp.log(1 + jnp.exp(-(2*y-1) * jnp.dot(all_x, beta))))\n",
    "    return result\n",
    "\n",
    "batched_log_joint = jax.jit(jax.vmap(log_joint))"
   ]
  },
  {
   "cell_type": "markdown",
   "id": "8d02c443-f0d8-4fbc-bb55-fb979e381cc4",
   "metadata": {},
   "source": [
    "### Define the ELBO and its gradient"
   ]
  },
  {
   "cell_type": "code",
   "execution_count": 16,
   "id": "e77e265b-718e-4b8e-9598-e1babf6475f4",
   "metadata": {},
   "outputs": [],
   "source": [
    "def elbo(beta_loc, beta_log_scale, epsilon):\n",
    "    beta_sample = beta_loc + jnp.exp(beta_log_scale) * epsilon\n",
    "    return jnp.mean(batched_log_joint(beta_sample), 0) + jnp.sum(beta_log_scale - 0.5 * np.log(2*np.pi))\n",
    " \n",
    "elbo = jax.jit(elbo)\n",
    "elbo_val_and_grad = jax.jit(jax.value_and_grad(elbo, argnums=(0, 1)))"
   ]
  },
  {
   "cell_type": "markdown",
   "id": "a7f761d0-a44a-43c1-8aa0-8530e3ecd7f5",
   "metadata": {},
   "source": [
    "### Optimize the ELBO using SGD"
   ]
  },
  {
   "cell_type": "code",
   "execution_count": 17,
   "id": "81433bf2-dc5a-4407-853d-24d9acf39277",
   "metadata": {},
   "outputs": [
    {
     "name": "stdout",
     "output_type": "stream",
     "text": [
      "0\t-180.8538818359375\n",
      "10\t-113.06045532226562\n",
      "20\t-102.73726654052734\n",
      "30\t-99.787353515625\n",
      "40\t-98.90898895263672\n",
      "50\t-98.29745483398438\n",
      "60\t-98.18633270263672\n",
      "70\t-97.57972717285156\n",
      "80\t-97.28599548339844\n",
      "90\t-97.46996307373047\n",
      "100\t-97.4771728515625\n",
      "110\t-97.5806655883789\n",
      "120\t-97.4943618774414\n",
      "130\t-97.50271606445312\n",
      "140\t-96.86396026611328\n",
      "150\t-97.44197845458984\n",
      "160\t-97.06941223144531\n",
      "170\t-96.84028625488281\n",
      "180\t-97.21336364746094\n",
      "190\t-97.56501770019531\n",
      "200\t-97.26397705078125\n",
      "210\t-97.11979675292969\n",
      "220\t-97.39595794677734\n",
      "230\t-97.16831970214844\n",
      "240\t-97.118408203125\n",
      "250\t-97.24346160888672\n",
      "260\t-97.29788970947266\n",
      "270\t-96.69286346435547\n",
      "280\t-96.96438598632812\n",
      "290\t-97.3005599975586\n",
      "300\t-96.63591766357422\n",
      "310\t-97.03518676757812\n",
      "320\t-97.52909851074219\n",
      "330\t-97.28811645507812\n",
      "340\t-97.0732192993164\n",
      "350\t-97.15620422363281\n",
      "360\t-97.25881958007812\n",
      "370\t-97.19514465332031\n",
      "380\t-97.13092041015625\n",
      "390\t-97.11727905273438\n",
      "400\t-96.938720703125\n",
      "410\t-97.26676940917969\n",
      "420\t-97.35322570800781\n",
      "430\t-97.21007537841797\n",
      "440\t-97.28434753417969\n",
      "450\t-97.16307830810547\n",
      "460\t-97.2612533569336\n",
      "470\t-97.21343231201172\n",
      "480\t-97.23997497558594\n",
      "490\t-97.14913940429688\n",
      "500\t-97.23527526855469\n",
      "510\t-96.93419647216797\n",
      "520\t-97.21209716796875\n",
      "530\t-96.82576751708984\n",
      "540\t-97.01284790039062\n",
      "550\t-96.94175720214844\n",
      "560\t-97.16521453857422\n",
      "570\t-97.2916488647461\n",
      "580\t-97.42940521240234\n",
      "590\t-97.24370574951172\n",
      "600\t-97.15223693847656\n",
      "610\t-97.49844360351562\n",
      "620\t-96.9906997680664\n",
      "630\t-96.88956451416016\n",
      "640\t-96.89968872070312\n",
      "650\t-97.137939453125\n",
      "660\t-97.43706512451172\n",
      "670\t-96.99235534667969\n",
      "680\t-97.15623474121094\n",
      "690\t-97.1869125366211\n",
      "700\t-97.11160278320312\n",
      "710\t-97.78105163574219\n",
      "720\t-97.23226165771484\n",
      "730\t-97.16206359863281\n",
      "740\t-96.99581909179688\n",
      "750\t-96.66722106933594\n",
      "760\t-97.16796875\n",
      "770\t-97.51435089111328\n",
      "780\t-97.28900909423828\n",
      "790\t-96.91226196289062\n",
      "800\t-97.1709976196289\n",
      "810\t-97.29048156738281\n",
      "820\t-97.16242218017578\n",
      "830\t-97.19105529785156\n",
      "840\t-97.56382751464844\n",
      "850\t-97.00194549560547\n",
      "860\t-96.86555480957031\n",
      "870\t-96.76338195800781\n",
      "880\t-96.83661651611328\n",
      "890\t-97.12178802490234\n",
      "900\t-97.09554290771484\n",
      "910\t-97.06824493408203\n",
      "920\t-97.11947631835938\n",
      "930\t-96.87930297851562\n",
      "940\t-97.45624542236328\n",
      "950\t-96.69278717041016\n",
      "960\t-97.29375457763672\n",
      "970\t-97.3353042602539\n",
      "980\t-97.34961700439453\n",
      "990\t-97.09675598144531\n"
     ]
    }
   ],
   "source": [
    "def normal_sample(key, shape):\n",
    "    \"\"\"Convenience function for quasi-stateful RNG.\"\"\"\n",
    "    new_key, sub_key = random.split(key)\n",
    "    return new_key, random.normal(sub_key, shape)\n",
    "\n",
    "normal_sample = jax.jit(normal_sample, static_argnums=(1,))\n",
    "\n",
    "key = random.PRNGKey(10003)\n",
    "\n",
    "beta_loc = jnp.zeros(num_features, jnp.float32)\n",
    "beta_log_scale = jnp.zeros(num_features, jnp.float32)\n",
    "\n",
    "step_size = 0.01\n",
    "batch_size = 128\n",
    "epsilon_shape = (batch_size, num_features)\n",
    "for i in range(1000):\n",
    "    key, epsilon = normal_sample(key, epsilon_shape)\n",
    "    elbo_val, (beta_loc_grad, beta_log_scale_grad) = elbo_val_and_grad(\n",
    "        beta_loc, beta_log_scale, epsilon)\n",
    "    beta_loc += step_size * beta_loc_grad\n",
    "    beta_log_scale += step_size * beta_log_scale_grad\n",
    "    if i % 10 == 0:\n",
    "        print('{}\\t{}'.format(i, elbo_val))"
   ]
  },
  {
   "cell_type": "markdown",
   "id": "a05cae80-eed7-48d3-a93a-40af751ef2ad",
   "metadata": {},
   "source": [
    "### Display the results"
   ]
  },
  {
   "cell_type": "code",
   "execution_count": 18,
   "id": "2f5dfb83-9df3-4355-9c05-3c0a7d436bfd",
   "metadata": {},
   "outputs": [
    {
     "data": {
      "text/plain": [
       "<matplotlib.legend.Legend at 0x7f18dec64f10>"
      ]
     },
     "execution_count": 18,
     "metadata": {},
     "output_type": "execute_result"
    },
    {
     "data": {
      "image/png": "[encoded data removed]",
      "text/plain": [
       "<Figure size 504x504 with 1 Axes>"
      ]
     },
     "metadata": {
      "needs_background": "light"
     },
     "output_type": "display_data"
    }
   ],
   "source": [
    "figure(figsize=(7, 7))\n",
    "plot(true_beta, beta_loc, '.', label='Approximated Posterior Means')\n",
    "plot(true_beta, beta_loc + 2*jnp.exp(beta_log_scale), 'r.', label='Approximated Posterior $2\\sigma$ Error Bars')\n",
    "plot(true_beta, beta_loc - 2*jnp.exp(beta_log_scale), 'r.')\n",
    "plot_scale = 3\n",
    "plot([-plot_scale, plot_scale], [-plot_scale, plot_scale], 'k')\n",
    "xlabel('True beta')\n",
    "ylabel('Estimated beta')\n",
    "legend(loc='best')"
   ]
  },
  {
   "cell_type": "code",
   "execution_count": null,
   "id": "816c0d11-62f8-405a-9885-1ddd5af77819",
   "metadata": {},
   "outputs": [],
   "source": []
  }
 ],
 "metadata": {
  "kernelspec": {
   "display_name": "Python 3",
   "language": "python",
   "name": "python3"
  },
  "language_info": {
   "codemirror_mode": {
    "name": "ipython",
    "version": 3
   },
   "file_extension": ".py",
   "mimetype": "text/x-python",
   "name": "python",
   "nbconvert_exporter": "python",
   "pygments_lexer": "ipython3",
   "version": "3.7.10"
  }
 },
 "nbformat": 4,
 "nbformat_minor": 5
}
